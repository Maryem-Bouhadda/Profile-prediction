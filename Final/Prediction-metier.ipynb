{
 "cells": [
  {
   "cell_type": "markdown",
   "id": "b0fd683b-06b1-433f-9a9e-782112b8fff0",
   "metadata": {},
   "source": [
    "# Prédiction des profils "
   ]
  },
  {
   "cell_type": "markdown",
   "id": "116b0719-7ad7-412d-94a8-aabd0a395f3d",
   "metadata": {},
   "source": [
    "1. [Importation des packages](#Importation-des-packages)\n",
    "2. [Traitement et analyse des données](#Traitement-et-analyse-des-données)\n",
    "3. [Clustering](#Clustering)\n",
    "4. [Prédiction des métiers manquants](#Prédiction-des-métiers-manquants)\n",
    "5. [Bonus ++](#Bonus-+-+)\n",
    "6. [Annexe](#Annexe)"
   ]
  },
  {
   "cell_type": "markdown",
   "id": "95a7a448-3f81-442e-8118-cbeeeb9ab46b",
   "metadata": {},
   "source": [
    "## Importation des packages "
   ]
  },
  {
   "cell_type": "code",
   "execution_count": 1,
   "id": "67c59b62-8889-4c4d-8e37-a3d0a04abc6c",
   "metadata": {},
   "outputs": [],
   "source": [
    "#!pip3 install matplotlib\n",
    "#!pip3 install pandas\n",
    "#!pip3 install numpy\n",
    "#!pip3 install seaborn\n",
    "#!pip3 install -U scikit-learn\n",
    "\n",
    "\n",
    "import matplotlib.pyplot as plt\n",
    "import pandas as pd\n",
    "import numpy as np\n",
    "import seaborn as sns\n",
    "import sklearn\n",
    "\n",
    "from sklearn import preprocessing\n",
    "from sklearn.preprocessing import StandardScaler\n",
    "from sklearn.cluster import KMeans\n",
    "from sklearn.metrics import silhouette_score\n",
    "from sklearn.preprocessing import MinMaxScaler\n",
    "from yellowbrick.cluster import SilhouetteVisualizer\n",
    "\n",
    "import random\n",
    "from sklearn.linear_model import LogisticRegression\n",
    "from sklearn.neighbors import KNeighborsClassifier\n",
    "from sklearn.naive_bayes import GaussianNB\n",
    "from sklearn.svm import LinearSVC\n",
    "from sklearn.svm import SVC\n",
    "from sklearn.tree import DecisionTreeClassifier\n",
    "from sklearn.ensemble import RandomForestClassifier\n",
    "\n",
    "from sklearn.metrics import accuracy_score\n",
    "from sklearn.metrics import confusion_matrix\n",
    "from sklearn.metrics import plot_confusion_matrix\n",
    "from sklearn.metrics import ConfusionMatrixDisplay\n",
    "from sklearn.metrics import classification_report, confusion_matrix\n"
   ]
  },
  {
   "cell_type": "markdown",
   "id": "fffb0612-dcdc-46fe-af07-c3e9dc680e9d",
   "metadata": {},
   "source": [
    "## Traitement et analyse des données "
   ]
  },
  {
   "cell_type": "code",
   "execution_count": 2,
   "id": "865ef425-d4fc-4ed4-8b25-7274d718550c",
   "metadata": {},
   "outputs": [
    {
     "data": {
      "text/html": [
       "<div>\n",
       "<style scoped>\n",
       "    .dataframe tbody tr th:only-of-type {\n",
       "        vertical-align: middle;\n",
       "    }\n",
       "\n",
       "    .dataframe tbody tr th {\n",
       "        vertical-align: top;\n",
       "    }\n",
       "\n",
       "    .dataframe thead th {\n",
       "        text-align: right;\n",
       "    }\n",
       "</style>\n",
       "<table border=\"1\" class=\"dataframe\">\n",
       "  <thead>\n",
       "    <tr style=\"text-align: right;\">\n",
       "      <th></th>\n",
       "      <th>Entreprise</th>\n",
       "      <th>Metier</th>\n",
       "      <th>Technologies</th>\n",
       "      <th>Diplome</th>\n",
       "      <th>Experience</th>\n",
       "      <th>Ville</th>\n",
       "    </tr>\n",
       "  </thead>\n",
       "  <tbody>\n",
       "    <tr>\n",
       "      <th>0</th>\n",
       "      <td>Sanofi</td>\n",
       "      <td>Data scientist</td>\n",
       "      <td>Matlab/Python/Pyspark/Scikit-learn/Tensorflow</td>\n",
       "      <td>Master</td>\n",
       "      <td>1.0</td>\n",
       "      <td>Paris</td>\n",
       "    </tr>\n",
       "    <tr>\n",
       "      <th>1</th>\n",
       "      <td>Massachusetts General Hospital(MGH)</td>\n",
       "      <td>Data architecte</td>\n",
       "      <td>Python/Java/Scala/MongoDB</td>\n",
       "      <td>Master</td>\n",
       "      <td>3.0</td>\n",
       "      <td>Marseille</td>\n",
       "    </tr>\n",
       "    <tr>\n",
       "      <th>2</th>\n",
       "      <td>Delve</td>\n",
       "      <td>Lead data scientist</td>\n",
       "      <td>SPSS/SQL/Teradata/R/Python/Tensorflow/scikit-l...</td>\n",
       "      <td>Master</td>\n",
       "      <td>3.0</td>\n",
       "      <td>Nantes</td>\n",
       "    </tr>\n",
       "    <tr>\n",
       "      <th>3</th>\n",
       "      <td>Ann &amp; Robert H. Lurie Children’s Hospital of C...</td>\n",
       "      <td>Data scientist</td>\n",
       "      <td>C/C++/Java/Python</td>\n",
       "      <td>Master</td>\n",
       "      <td>1.5</td>\n",
       "      <td>Marseille</td>\n",
       "    </tr>\n",
       "    <tr>\n",
       "      <th>4</th>\n",
       "      <td>Arm</td>\n",
       "      <td>Data scientist</td>\n",
       "      <td>Matlab/Python/C++/numpy/Tensorflow/scikit-learn</td>\n",
       "      <td>Phd</td>\n",
       "      <td>NaN</td>\n",
       "      <td>Bordeaux</td>\n",
       "    </tr>\n",
       "  </tbody>\n",
       "</table>\n",
       "</div>"
      ],
      "text/plain": [
       "                                          Entreprise               Metier  \\\n",
       "0                                             Sanofi       Data scientist   \n",
       "1                Massachusetts General Hospital(MGH)      Data architecte   \n",
       "2                                              Delve  Lead data scientist   \n",
       "3  Ann & Robert H. Lurie Children’s Hospital of C...       Data scientist   \n",
       "4                                                Arm       Data scientist   \n",
       "\n",
       "                                        Technologies Diplome  Experience  \\\n",
       "0      Matlab/Python/Pyspark/Scikit-learn/Tensorflow  Master         1.0   \n",
       "1                          Python/Java/Scala/MongoDB  Master         3.0   \n",
       "2  SPSS/SQL/Teradata/R/Python/Tensorflow/scikit-l...  Master         3.0   \n",
       "3                                  C/C++/Java/Python  Master         1.5   \n",
       "4    Matlab/Python/C++/numpy/Tensorflow/scikit-learn     Phd         NaN   \n",
       "\n",
       "       Ville  \n",
       "0      Paris  \n",
       "1  Marseille  \n",
       "2     Nantes  \n",
       "3  Marseille  \n",
       "4   Bordeaux  "
      ]
     },
     "execution_count": 2,
     "metadata": {},
     "output_type": "execute_result"
    }
   ],
   "source": [
    "#Importation de la base de données\n",
    "data = pd.read_csv('data.csv', sep=',', decimal=',')\n",
    "#Afficher les cinq premières lignes de la base \n",
    "data.head()"
   ]
  },
  {
   "cell_type": "code",
   "execution_count": 3,
   "id": "446063a1-9700-4eff-8297-a5acab383e1a",
   "metadata": {},
   "outputs": [
    {
     "data": {
      "text/plain": [
       "Entreprise       object\n",
       "Metier           object\n",
       "Technologies     object\n",
       "Diplome          object\n",
       "Experience      float64\n",
       "Ville            object\n",
       "dtype: object"
      ]
     },
     "execution_count": 3,
     "metadata": {},
     "output_type": "execute_result"
    }
   ],
   "source": [
    "# Explorer le type des données pour s'assurer que l'expérience est bien lue \n",
    "data.dtypes\n"
   ]
  },
  {
   "cell_type": "markdown",
   "id": "31295e1a-8ebc-4a5b-9fba-8e8cca03a198",
   "metadata": {},
   "source": [
    "1) Combien y a t-il d'observations dans ce dataset? Y a t-il des valeurs\n",
    "manquantes ?"
   ]
  },
  {
   "cell_type": "code",
   "execution_count": 4,
   "id": "3b89c5ce-d7f4-474e-b40a-57973b1b0b64",
   "metadata": {},
   "outputs": [
    {
     "name": "stdout",
     "output_type": "stream",
     "text": [
      "La base contient 9582 observations\n",
      "\n",
      "Entreprise      17\n",
      "Metier          19\n",
      "Technologies     0\n",
      "Diplome          0\n",
      "Experience      94\n",
      "Ville            0\n",
      "dtype: int64 \n",
      "\n",
      "Les variables \"Entreprise\", \"Metier\" et \"Experience\" contiennent des valeurs manquantes.\n",
      "\n"
     ]
    }
   ],
   "source": [
    "# Nombre d'observations\n",
    "print('La base contient', len(data), 'observations'+'\\n')\n",
    "# Nombre de valeurs manquantes par variable\n",
    "print(data.isna().sum(), '\\n')\n",
    "print ('Les variables \"Entreprise\", \"Metier\" et \"Experience\" contiennent des valeurs manquantes.'+'\\n')\n"
   ]
  },
  {
   "cell_type": "markdown",
   "id": "1d651578-a517-481d-9eb7-5f5d40c52d66",
   "metadata": {},
   "source": [
    "2.a. Réaliser l'imputation des valeurs manquantes pour la variable \"Experience\"\n",
    "avec la valeur médiane pour les data scientists."
   ]
  },
  {
   "cell_type": "code",
   "execution_count": 5,
   "id": "911d96f2-fa95-4481-b9ea-1fbac49781a9",
   "metadata": {},
   "outputs": [
    {
     "name": "stdout",
     "output_type": "stream",
     "text": [
      "Le nombre de valeurs manquantes pour l expérience des data scientists est :  0\n"
     ]
    }
   ],
   "source": [
    "# Créer une copie de la base initiale surlaquelle on va faire les modifications\n",
    "c_data=data\n",
    "\n",
    "# Calculer la mediane d'expérience des data scientists \n",
    "median_sc=c_data[c_data['Metier']\n",
    "                 ==\"Data scientist\"]['Experience'].dropna().median()\n",
    "\n",
    "# Remplacer toute valeur avec condition nulle et data scientist par cette médiane\n",
    "c_data.loc[c_data['Metier']\n",
    "           ==\"Data scientist\",'Experience']=c_data.loc[c_data['Metier']\n",
    "                                                       ==\"Data scientist\",'Experience'].fillna(median_sc)\n",
    "\n",
    "# S'assurer que le nombre des valeurs manquantes chez les data scientists est null en terme d'expérience\n",
    "print('Le nombre de valeurs manquantes pour l expérience des data scientists est : ',\n",
    "      c_data.loc[c_data['Metier'] ==\"Data scientist\",'Experience'].isna().sum())"
   ]
  },
  {
   "cell_type": "markdown",
   "id": "347acccb-562b-4578-b26e-de3b646c1ce2",
   "metadata": {},
   "source": [
    "b.2. Réaliser l'imputation des valeurs manquantes pour la variable \"Experience\" avec la valeur moyenne pour les data engineers"
   ]
  },
  {
   "cell_type": "code",
   "execution_count": 6,
   "id": "7734b893-8e10-45b9-854d-4617c4e0ddc0",
   "metadata": {},
   "outputs": [
    {
     "name": "stdout",
     "output_type": "stream",
     "text": [
      "Le nombre de valeurs manquantes pour l expérience des data engineers est :  0\n"
     ]
    }
   ],
   "source": [
    "# Le nombre d'expérience moyen pour les data engineers \n",
    "mean_en=c_data[c_data['Metier']==\"Data engineer\"]['Experience'].dropna().mean()\n",
    "\n",
    "#Remplacer toute valeur avec condition nulle et data scientist par cette moyenne\n",
    "c_data.loc[c_data['Metier']\n",
    "           ==\"Data engineer\",'Experience']=c_data.loc[c_data['Metier']\n",
    "                                                      ==\"Data engineer\",'Experience'].fillna(mean_en)\n",
    "\n",
    "# S'assurer que le nombre des valeurs manquantes chez les data engineers est null en terme d'expérience\n",
    "print('Le nombre de valeurs manquantes pour l expérience des data engineers est : '\n",
    "      ,c_data.loc[c_data['Metier']==\"Data engineer\",'Experience'].isna().sum())\n"
   ]
  },
  {
   "cell_type": "markdown",
   "id": "871fe726-657b-4def-b8d7-0ea77b2de823",
   "metadata": {},
   "source": [
    "3) Combien d'années d'expériences ont, en moyenne, chacun des profils : le\n",
    "data scientist, le lead data scientist et le data engineer en moyenne ?"
   ]
  },
  {
   "cell_type": "code",
   "execution_count": 7,
   "id": "1e3af397-24cf-41a6-8988-b7b180bac2fc",
   "metadata": {},
   "outputs": [
    {
     "data": {
      "text/plain": [
       "0"
      ]
     },
     "execution_count": 7,
     "metadata": {},
     "output_type": "execute_result"
    }
   ],
   "source": [
    "#Imputation des valeurs manquantes en nombre d'expérience pour chaque profil  par la moyenne \n",
    "\n",
    "#Calcler la moyenne de chaque profile \n",
    "mean_sc=c_data[c_data['Metier']==\"Data scientist\"]['Experience'].dropna().mean()\n",
    "mean_L_sc=c_data[c_data['Metier']==\"Lead data scientist\"]['Experience'].dropna().mean()\n",
    "mean_ar=c_data[c_data['Metier']==\"Data architecte\"]['Experience'].dropna().mean()\n",
    "\n",
    "#Remplacer toute valeur avec condition nulle  par la moyenne calculée du le profil concerné\n",
    "c_data.loc[c_data['Metier']==\"Data scientist\"\n",
    "           ,'Experience']=c_data.loc[c_data['Metier']==\"Data scientist\",'Experience'].fillna(mean_sc)\n",
    "c_data.loc[c_data['Metier']==\"Lead data scientist\"\n",
    "           ,'Experience']=c_data.loc[c_data['Metier']\n",
    "                                     ==\"Lead data scientist\",'Experience'].fillna(mean_L_sc)\n",
    "c_data.loc[c_data['Metier']==\"Data architecte\"\n",
    "           ,'Experience']=c_data.loc[c_data['Metier']==\"Data architecte\",'Experience'].fillna(mean_ar)\n",
    "\n",
    "#S'assurer qu'il n ya plus de valeurs manquantes\n",
    "c_data['Experience'].isna().sum() "
   ]
  },
  {
   "cell_type": "code",
   "execution_count": 8,
   "id": "fa0a99e7-daf8-4752-b5ef-3499570646c8",
   "metadata": {},
   "outputs": [
    {
     "name": "stdout",
     "output_type": "stream",
     "text": [
      "En moyenne, les data scientists ont  2.24 années d expérience.\n",
      "En moyenne, les Lead data scientists ont  3.97 années d expérience.\n",
      "En moyenne, les data engineers ont 2.98 années d expérience.\n",
      "En moyenne, les Data architecte ont 3.0 années d expérience.\n"
     ]
    }
   ],
   "source": [
    "# Nombres d'années d'expérience moyen des data scientists :\n",
    "print('En moyenne, les data scientists ont ',round(mean_sc,2),'années d expérience.')\n",
    "# Nombres d'années d'expérience moyen des Lead data scientists :\n",
    "print('En moyenne, les Lead data scientists ont ',round(mean_L_sc,2),'années d expérience.')\n",
    "# Nombres d'années d'expérience moyen des data engineer :\n",
    "print('En moyenne, les data engineers ont', round(mean_en,2),'années d expérience.')\n",
    "# Nombres d'années d'expérience moyen des data architectes  :\n",
    "print('En moyenne, les Data architecte ont', round(mean_ar,2),'années d expérience.')"
   ]
  },
  {
   "cell_type": "markdown",
   "id": "30e4b112-0e34-45ab-8132-b175671b982c",
   "metadata": {},
   "source": [
    "4) Faire la représentation graphique de votre choix afin de comparer le\n",
    "nombre moyen d'années d'expériences pour chaque métier"
   ]
  },
  {
   "cell_type": "code",
   "execution_count": 11,
   "id": "534ee732-dab7-422c-8442-4209e86d9a57",
   "metadata": {},
   "outputs": [
    {
     "data": {
      "image/png": "[encoded data removed]",
      "text/plain": [
       "<Figure size 1080x576 with 1 Axes>"
      ]
     },
     "metadata": {},
     "output_type": "display_data"
    }
   ],
   "source": [
    "# 1 ère pensée  : visualisation du nombre moyen d'expérience sur les boxplots car on peut voir les moyennes \n",
    "#et s'il existe une différence significative entre elles\n",
    "plt.figure(figsize=(15, 8))\n",
    "ax = sns.boxplot(x=\"Metier\", y=\"Experience\", data=c_data,showmeans=True)\n",
    "plt.ylabel(\"Experience en années\", size=14)\n",
    "plt.xlabel(\"Métier\", size=14)\n",
    "plt.title(\"Comparaison des métiers par années d'expérience\", size=18)\n",
    "plt.show()"
   ]
  },
  {
   "cell_type": "code",
   "execution_count": 12,
   "id": "8ba43b33-71ad-48f5-b533-9ba96a0e28e1",
   "metadata": {},
   "outputs": [
    {
     "data": {
      "image/png": "[encoded data removed]",
      "text/plain": [
       "<Figure size 576x396 with 1 Axes>"
      ]
     },
     "metadata": {},
     "output_type": "display_data"
    }
   ],
   "source": [
    "# Pour une visualisation plus claire des moyennes nous allons utiliser les bar plot\n",
    "X=('Data scientist', 'Lead data scientist', 'Data engineer', 'Data architecte') #Axe des abscisses \n",
    "Y=[mean_sc,mean_L_sc,mean_en,mean_ar] #Les valeurs pour chaque métier \n",
    "plt.bar(X,Y,color='mediumvioletred')\n",
    "# Ajouter les valeurs des moyennes sur les bars \n",
    "def addlabels(x,y):\n",
    "    for i in range(len(x)):\n",
    "        plt.text(i,round(y[i],2),round(y[i],2))\n",
    "addlabels(X,Y)\n",
    "# Ajout du titre et noms des axes \n",
    "plt.xticks(X,rotation=45)\n",
    "plt.ylabel(\"La valeur moyenne\\n\")\n",
    "plt.title(\"Le nombre moyen d'années d'expériences pour chaque métier\\n\")\n",
    "# Ajouter les valeurs des moyennes sur les bars du plot \n",
    "\n",
    "plt.show()"
   ]
  },
  {
   "cell_type": "markdown",
   "id": "fcc446ab-705d-41c0-abdb-7a22ffdff0bd",
   "metadata": {},
   "source": [
    "* Les Lead data scientists ont la plus grande moyenne en terme d'années d'expérience. Ce résultat était attendu vu que le poste de \"Lead\" exige déjà un profil expérimenté par rapport au reste des profils de la base. Donc leur recrtuement est essentiellement basé sur leur grand nombre d'années d'expérience.\n",
    "* Les data scientists ont le nombre d'années d'expérience le plus faible. C'est le poste le moins exigeant en terme d'années d'expérience lors du recrutement.\n",
    "* Les data enginners et data architectes ont une moyenne d'expérience comparables et ont plus d'expertise que les  data scientists. L'exigence en nombre d'expérience pour le poste de data engineer / architecte est souvent plus sévère lors du recrutement par rapport à un data scientist. Ce ci peut reflèter la complexité du métier du data engineer/data architecte par rapport au data scientist (plus d'outils et de connaissances à acquérir).Ce ci peut aussi refléter la différences des salaires entre data enginners/ architectes qui gagnent souvent plus que les data scientists.\n",
    "\n"
   ]
  },
  {
   "cell_type": "markdown",
   "id": "643a4095-5e1f-4ef9-bcb3-ec35bcdec641",
   "metadata": {},
   "source": [
    "5) Transformer la variable continue 'Experience' en une nouvelle variable\n",
    "catégorielle 'Exp_label' à 4 modalités : débutant, confirmé, avancé et expert.\n",
    "Veuillez expliquer votre choix de la règle de transformation"
   ]
  },
  {
   "cell_type": "code",
   "execution_count": 13,
   "id": "6d565982-3b47-433f-bdb5-26a2aad8e2bf",
   "metadata": {},
   "outputs": [
    {
     "name": "stdout",
     "output_type": "stream",
     "text": [
      "count    9582.000000\n",
      "mean        2.814553\n",
      "std         2.703857\n",
      "min         0.000000\n",
      "25%         1.000000\n",
      "50%         2.000000\n",
      "75%         3.500000\n",
      "max        21.000000\n",
      "Name: Experience, dtype: float64 \n",
      " \n",
      "\n"
     ]
    }
   ],
   "source": [
    "# Observer le comportement de la variable pour décider de la méthode de transformation\n",
    "print(c_data['Experience'].describe(),'\\n','\\n')\n"
   ]
  },
  {
   "cell_type": "markdown",
   "id": "93be415a-003f-49bd-bf42-e6c791b7495e",
   "metadata": {},
   "source": [
    "Le choix des intervalles est basée sur des recherches Google sur la norme des années d'expériences à assigner à chaque label.  \n",
    "\n",
    "* Débutant : de 0 à 2 ans d’expérience.\n",
    "* Confirmé : de 3 à 4 ans d’expérience.\n",
    "* Avancé   : entre 5 et 10 ans d’expérience.\n",
    "* Expert  : au-dessus de 10 anns d’expérience.\n",
    "\n",
    "Sources :\n",
    "*  https://fleid.net/2012/10/09/consultants-juniors-confirmes-seniors-quels-criteres-pour-quantifier-lexperience/\n",
    "*  https://www.cadremploi.fr/editorial/conseils/salaire/detail/article/cadres-seniors-comment-baisser-ses-pretentions-salariales-sans-perdre-la-face.html\n"
   ]
  },
  {
   "cell_type": "code",
   "execution_count": 14,
   "id": "c0ce5293-05f6-40b2-96e9-1d960ada62ac",
   "metadata": {},
   "outputs": [
    {
     "data": {
      "text/html": [
       "<div>\n",
       "<style scoped>\n",
       "    .dataframe tbody tr th:only-of-type {\n",
       "        vertical-align: middle;\n",
       "    }\n",
       "\n",
       "    .dataframe tbody tr th {\n",
       "        vertical-align: top;\n",
       "    }\n",
       "\n",
       "    .dataframe thead th {\n",
       "        text-align: right;\n",
       "    }\n",
       "</style>\n",
       "<table border=\"1\" class=\"dataframe\">\n",
       "  <thead>\n",
       "    <tr style=\"text-align: right;\">\n",
       "      <th></th>\n",
       "      <th>Entreprise</th>\n",
       "      <th>Metier</th>\n",
       "      <th>Technologies</th>\n",
       "      <th>Diplome</th>\n",
       "      <th>Experience</th>\n",
       "      <th>Ville</th>\n",
       "      <th>Exp_label</th>\n",
       "    </tr>\n",
       "  </thead>\n",
       "  <tbody>\n",
       "    <tr>\n",
       "      <th>0</th>\n",
       "      <td>Sanofi</td>\n",
       "      <td>Data scientist</td>\n",
       "      <td>Matlab/Python/Pyspark/Scikit-learn/Tensorflow</td>\n",
       "      <td>Master</td>\n",
       "      <td>1.0</td>\n",
       "      <td>Paris</td>\n",
       "      <td>Debutant</td>\n",
       "    </tr>\n",
       "    <tr>\n",
       "      <th>1</th>\n",
       "      <td>Massachusetts General Hospital(MGH)</td>\n",
       "      <td>Data architecte</td>\n",
       "      <td>Python/Java/Scala/MongoDB</td>\n",
       "      <td>Master</td>\n",
       "      <td>3.0</td>\n",
       "      <td>Marseille</td>\n",
       "      <td>Confirmé</td>\n",
       "    </tr>\n",
       "    <tr>\n",
       "      <th>2</th>\n",
       "      <td>Delve</td>\n",
       "      <td>Lead data scientist</td>\n",
       "      <td>SPSS/SQL/Teradata/R/Python/Tensorflow/scikit-l...</td>\n",
       "      <td>Master</td>\n",
       "      <td>3.0</td>\n",
       "      <td>Nantes</td>\n",
       "      <td>Confirmé</td>\n",
       "    </tr>\n",
       "    <tr>\n",
       "      <th>3</th>\n",
       "      <td>Ann &amp; Robert H. Lurie Children’s Hospital of C...</td>\n",
       "      <td>Data scientist</td>\n",
       "      <td>C/C++/Java/Python</td>\n",
       "      <td>Master</td>\n",
       "      <td>1.5</td>\n",
       "      <td>Marseille</td>\n",
       "      <td>Debutant</td>\n",
       "    </tr>\n",
       "    <tr>\n",
       "      <th>4</th>\n",
       "      <td>Arm</td>\n",
       "      <td>Data scientist</td>\n",
       "      <td>Matlab/Python/C++/numpy/Tensorflow/scikit-learn</td>\n",
       "      <td>Phd</td>\n",
       "      <td>2.0</td>\n",
       "      <td>Bordeaux</td>\n",
       "      <td>Debutant</td>\n",
       "    </tr>\n",
       "  </tbody>\n",
       "</table>\n",
       "</div>"
      ],
      "text/plain": [
       "                                          Entreprise               Metier  \\\n",
       "0                                             Sanofi       Data scientist   \n",
       "1                Massachusetts General Hospital(MGH)      Data architecte   \n",
       "2                                              Delve  Lead data scientist   \n",
       "3  Ann & Robert H. Lurie Children’s Hospital of C...       Data scientist   \n",
       "4                                                Arm       Data scientist   \n",
       "\n",
       "                                        Technologies Diplome  Experience  \\\n",
       "0      Matlab/Python/Pyspark/Scikit-learn/Tensorflow  Master         1.0   \n",
       "1                          Python/Java/Scala/MongoDB  Master         3.0   \n",
       "2  SPSS/SQL/Teradata/R/Python/Tensorflow/scikit-l...  Master         3.0   \n",
       "3                                  C/C++/Java/Python  Master         1.5   \n",
       "4    Matlab/Python/C++/numpy/Tensorflow/scikit-learn     Phd         2.0   \n",
       "\n",
       "       Ville Exp_label  \n",
       "0      Paris  Debutant  \n",
       "1  Marseille  Confirmé  \n",
       "2     Nantes  Confirmé  \n",
       "3  Marseille  Debutant  \n",
       "4   Bordeaux  Debutant  "
      ]
     },
     "execution_count": 14,
     "metadata": {},
     "output_type": "execute_result"
    }
   ],
   "source": [
    "# Découpage de la variable expérience en 4 labels \n",
    "c_data['Exp_label']=pd.cut(c_data.Experience,bins=[-1,2,4,10,99],\n",
    "                           labels=['Debutant','Confirmé','Avancé','Expert'])\n",
    "# Afficher les 5 premières lignes \n",
    "c_data.head()"
   ]
  },
  {
   "cell_type": "markdown",
   "id": "461ea509-24bd-4307-8ded-7a90f340ab84",
   "metadata": {},
   "source": [
    "6) Quelles sont les 5 technologies les plus utilisées ? Faites un graphique\n"
   ]
  },
  {
   "cell_type": "code",
   "execution_count": 15,
   "id": "5fc94292-e7c3-4100-a8f1-b70df6fefbb3",
   "metadata": {},
   "outputs": [
    {
     "name": "stdout",
     "output_type": "stream",
     "text": [
      "Les 5 technologies les plus utilisées sont : \n",
      "\n",
      "Python    6627\n",
      "R         4374\n",
      "SQL       2581\n",
      "Java      1719\n",
      "Hadoop    1589\n",
      "Name: Technologies, dtype: int64\n",
      "\n",
      "\n",
      "Les 5 combinaisons de technologies les plus utilisées sont : \n",
      "\n",
      "SQL/R/Python//Big data                                539\n",
      "SAS/Teradata/SQL/R/Python/Machine learning/Anglais    458\n",
      "C++/R/Python/Matlab/Matplotlib                        273\n",
      "Hadoop/Hive/Vertica/Tableau                           250\n",
      "SPSS/Excel/SAS/R/machine learning/AI/Scoring          250\n",
      "Name: Technologies, dtype: int64\n"
     ]
    }
   ],
   "source": [
    "# Les 5 technologies les plus utilisées\n",
    "print('Les 5 technologies les plus utilisées sont :','\\n')\n",
    "print(c_data.Technologies.apply(lambda x : x.split(\"/\")).explode().value_counts().head(5))\n",
    "print('\\n')\n",
    "print('Les 5 combinaisons de technologies les plus utilisées sont :','\\n')\n",
    "\n",
    "print(c_data['Technologies'].value_counts().head(5))"
   ]
  },
  {
   "cell_type": "code",
   "execution_count": 16,
   "id": "c18b4053-44ed-4bb7-8932-4138c3519939",
   "metadata": {},
   "outputs": [
    {
     "data": {
      "image/png": "[encoded data removed]",
      "text/plain": [
       "<Figure size 720x504 with 2 Axes>"
      ]
     },
     "metadata": {},
     "output_type": "display_data"
    }
   ],
   "source": [
    "# Plot des 5 technologies les plus utilisées\n",
    "plt.subplot(211)\n",
    "c_data.Technologies.apply(lambda x \n",
    "                          : x.split(\"/\")).explode().value_counts(ascending=True).tail(5).plot(kind='barh'\n",
    "                                                                , figsize=(10,7),color='mediumvioletred')\n",
    "plt.title('Les 5 technologies les plus utilisés')\n",
    "plt.ylabel(\"Technologies\", size=14)\n",
    "\n",
    "# Plot des 5 combinaison de technologies les plus utilisées\n",
    "plt.subplot(212)\n",
    "# Plot des 5 technologies les plus utilisées\n",
    "c_data['Technologies'].value_counts(ascending=True).tail(5).plot(kind='barh',\n",
    "                                                                 figsize=(10,7),color='mediumvioletred')\n",
    "plt.title('Les  5 combinaisons de technologies les plus utilisés')\n",
    "plt.ylabel(\"Combinaison de technologies\", size=14)\n",
    "plt.xlabel(\"Count\", size=14)\n",
    "plt.show()"
   ]
  },
  {
   "cell_type": "markdown",
   "id": "ea30f89d-fe17-4635-a54e-285ee282f113",
   "metadata": {},
   "source": [
    "## Clustering"
   ]
  },
  {
   "cell_type": "markdown",
   "id": "491f74b8-e0e7-422e-a3df-52af8b44e09f",
   "metadata": {},
   "source": [
    "7) Réaliser une méthode de clustering non supervisée de votre choix pour faire\n",
    "apparaître le nombre de clusters que vous jugerez pertinents. Donnez les\n",
    "caractéristiques de chacun des clusters."
   ]
  },
  {
   "cell_type": "markdown",
   "id": "89c436c3-c273-4bb7-af44-6982831c2528",
   "metadata": {},
   "source": [
    "* La consigne était de faire  Un clustering non supervisé afin d'identifier 2 groupes de profils\n",
    "techniques distincts donc puisque le nombre de groupe est connu, le plus simple serait de tenter d'utiliser les k-means avec k=2.\n",
    "\n",
    "* Les k-means sont basés sur la distance entre les observations. Toutes les variables catégorielles doivent donc être codées en valeurs numériques standardisés afin que les calculs puissent être effectués et aucune variable ne soit plus importante que l'autre.\n",
    "\n",
    "* L'expérience étant la seule variable numérique,elle ne sera pas codée mais sera standardisée. Une nouvelle base de données sera créée pour contenir toutes les variables catégorielles codées. \n",
    "\n",
    "* La méthode d'encodage recommandée est le One Hot encoding , il s'agit de créer une nouvelle colonne pour chaque modalité. On assigne les valeurs 1 si la modalité existe pour l'observation concernée et 0 sinon.\n"
   ]
  },
  {
   "cell_type": "code",
   "execution_count": 17,
   "id": "f104b7f1-ed67-4f01-9b1e-c7224e7aa226",
   "metadata": {},
   "outputs": [
    {
     "name": "stdout",
     "output_type": "stream",
     "text": [
      "le nombre d observations de la base devient : 9563\n"
     ]
    }
   ],
   "source": [
    "# Supprimer les valeurs manquantes de la base de données à fin d'éviter d'avoir des colonnes supplémentaires \n",
    "#lors du one hot encoding\n",
    "df_no_na = c_data[[\"Experience\",\"Metier\", \"Diplome\",\"Technologies\"]].dropna()\n",
    "print('le nombre d observations de la base devient :', len(df_no_na))"
   ]
  },
  {
   "cell_type": "markdown",
   "id": "3ac30548-8941-49ad-983a-2b8d0c38b405",
   "metadata": {},
   "source": [
    "Afin de bien mener le clustering , nous allons suivre les étapes suivantes : \n",
    "* 1- Exploser la variable technologies pour avoir des outils séparés qui nous aiderons à identifier les clusters par la suite \n",
    "* 2- Encoder les bases d'outils et la base des autres variables traitées\n",
    "* 3- Faire l'union des deux bases \n",
    "* 4- Standardiser la base obtenue pour s'assurer qu'aucune variable n'a un poids plus que l'autre et que toutes les variables n'ont pas différentes unités."
   ]
  },
  {
   "cell_type": "code",
   "execution_count": 18,
   "id": "08249293-8d35-4041-a0b5-e640dc9cdeaa",
   "metadata": {},
   "outputs": [
    {
     "data": {
      "text/html": [
       "<div>\n",
       "<style scoped>\n",
       "    .dataframe tbody tr th:only-of-type {\n",
       "        vertical-align: middle;\n",
       "    }\n",
       "\n",
       "    .dataframe tbody tr th {\n",
       "        vertical-align: top;\n",
       "    }\n",
       "\n",
       "    .dataframe thead th {\n",
       "        text-align: right;\n",
       "    }\n",
       "</style>\n",
       "<table border=\"1\" class=\"dataframe\">\n",
       "  <thead>\n",
       "    <tr style=\"text-align: right;\">\n",
       "      <th></th>\n",
       "      <th>Outils</th>\n",
       "    </tr>\n",
       "  </thead>\n",
       "  <tbody>\n",
       "    <tr>\n",
       "      <th>0</th>\n",
       "      <td>Matlab</td>\n",
       "    </tr>\n",
       "    <tr>\n",
       "      <th>0</th>\n",
       "      <td>Python</td>\n",
       "    </tr>\n",
       "    <tr>\n",
       "      <th>0</th>\n",
       "      <td>Pyspark</td>\n",
       "    </tr>\n",
       "    <tr>\n",
       "      <th>0</th>\n",
       "      <td>Scikit-learn</td>\n",
       "    </tr>\n",
       "    <tr>\n",
       "      <th>0</th>\n",
       "      <td>Tensorflow</td>\n",
       "    </tr>\n",
       "    <tr>\n",
       "      <th>1</th>\n",
       "      <td>Python</td>\n",
       "    </tr>\n",
       "  </tbody>\n",
       "</table>\n",
       "</div>"
      ],
      "text/plain": [
       "         Outils\n",
       "0        Matlab\n",
       "0        Python\n",
       "0       Pyspark\n",
       "0  Scikit-learn\n",
       "0    Tensorflow\n",
       "1        Python"
      ]
     },
     "execution_count": 18,
     "metadata": {},
     "output_type": "execute_result"
    }
   ],
   "source": [
    "# 1- Exploser la variable technologies pour avoir des outils séparés qui nous aiderons à identifier les clusters \n",
    "outils= df_no_na.Technologies.apply(lambda x : x.split(\"/\")).explode()\n",
    "outils=pd.DataFrame(outils)\n",
    "outils=outils.rename(columns={\"Technologies\": \"Outils\"})\n",
    "outils.head(6)"
   ]
  },
  {
   "cell_type": "code",
   "execution_count": 19,
   "id": "102f09cd-6623-4fff-aae9-81ad249c84fc",
   "metadata": {},
   "outputs": [
    {
     "data": {
      "text/html": [
       "<div>\n",
       "<style scoped>\n",
       "    .dataframe tbody tr th:only-of-type {\n",
       "        vertical-align: middle;\n",
       "    }\n",
       "\n",
       "    .dataframe tbody tr th {\n",
       "        vertical-align: top;\n",
       "    }\n",
       "\n",
       "    .dataframe thead th {\n",
       "        text-align: right;\n",
       "    }\n",
       "</style>\n",
       "<table border=\"1\" class=\"dataframe\">\n",
       "  <thead>\n",
       "    <tr style=\"text-align: right;\">\n",
       "      <th></th>\n",
       "      <th>index</th>\n",
       "      <th>Python</th>\n",
       "      <th>R</th>\n",
       "      <th>SQL</th>\n",
       "      <th>Java</th>\n",
       "      <th>Hadoop</th>\n",
       "    </tr>\n",
       "  </thead>\n",
       "  <tbody>\n",
       "    <tr>\n",
       "      <th>0</th>\n",
       "      <td>0</td>\n",
       "      <td>1</td>\n",
       "      <td>0</td>\n",
       "      <td>0</td>\n",
       "      <td>0</td>\n",
       "      <td>0</td>\n",
       "    </tr>\n",
       "    <tr>\n",
       "      <th>1</th>\n",
       "      <td>1</td>\n",
       "      <td>1</td>\n",
       "      <td>0</td>\n",
       "      <td>0</td>\n",
       "      <td>1</td>\n",
       "      <td>0</td>\n",
       "    </tr>\n",
       "    <tr>\n",
       "      <th>2</th>\n",
       "      <td>2</td>\n",
       "      <td>1</td>\n",
       "      <td>1</td>\n",
       "      <td>1</td>\n",
       "      <td>0</td>\n",
       "      <td>0</td>\n",
       "    </tr>\n",
       "    <tr>\n",
       "      <th>3</th>\n",
       "      <td>3</td>\n",
       "      <td>1</td>\n",
       "      <td>0</td>\n",
       "      <td>0</td>\n",
       "      <td>1</td>\n",
       "      <td>0</td>\n",
       "    </tr>\n",
       "    <tr>\n",
       "      <th>4</th>\n",
       "      <td>4</td>\n",
       "      <td>1</td>\n",
       "      <td>0</td>\n",
       "      <td>0</td>\n",
       "      <td>0</td>\n",
       "      <td>0</td>\n",
       "    </tr>\n",
       "    <tr>\n",
       "      <th>...</th>\n",
       "      <td>...</td>\n",
       "      <td>...</td>\n",
       "      <td>...</td>\n",
       "      <td>...</td>\n",
       "      <td>...</td>\n",
       "      <td>...</td>\n",
       "    </tr>\n",
       "    <tr>\n",
       "      <th>9558</th>\n",
       "      <td>9577</td>\n",
       "      <td>1</td>\n",
       "      <td>1</td>\n",
       "      <td>0</td>\n",
       "      <td>0</td>\n",
       "      <td>0</td>\n",
       "    </tr>\n",
       "    <tr>\n",
       "      <th>9559</th>\n",
       "      <td>9578</td>\n",
       "      <td>1</td>\n",
       "      <td>1</td>\n",
       "      <td>0</td>\n",
       "      <td>0</td>\n",
       "      <td>0</td>\n",
       "    </tr>\n",
       "    <tr>\n",
       "      <th>9560</th>\n",
       "      <td>9579</td>\n",
       "      <td>0</td>\n",
       "      <td>1</td>\n",
       "      <td>0</td>\n",
       "      <td>0</td>\n",
       "      <td>0</td>\n",
       "    </tr>\n",
       "    <tr>\n",
       "      <th>9561</th>\n",
       "      <td>9580</td>\n",
       "      <td>1</td>\n",
       "      <td>0</td>\n",
       "      <td>0</td>\n",
       "      <td>0</td>\n",
       "      <td>0</td>\n",
       "    </tr>\n",
       "    <tr>\n",
       "      <th>9562</th>\n",
       "      <td>9581</td>\n",
       "      <td>1</td>\n",
       "      <td>1</td>\n",
       "      <td>0</td>\n",
       "      <td>0</td>\n",
       "      <td>0</td>\n",
       "    </tr>\n",
       "  </tbody>\n",
       "</table>\n",
       "<p>9563 rows × 6 columns</p>\n",
       "</div>"
      ],
      "text/plain": [
       "      index  Python  R  SQL  Java  Hadoop\n",
       "0         0       1  0    0     0       0\n",
       "1         1       1  0    0     1       0\n",
       "2         2       1  1    1     0       0\n",
       "3         3       1  0    0     1       0\n",
       "4         4       1  0    0     0       0\n",
       "...     ...     ... ..  ...   ...     ...\n",
       "9558   9577       1  1    0     0       0\n",
       "9559   9578       1  1    0     0       0\n",
       "9560   9579       0  1    0     0       0\n",
       "9561   9580       1  0    0     0       0\n",
       "9562   9581       1  1    0     0       0\n",
       "\n",
       "[9563 rows x 6 columns]"
      ]
     },
     "execution_count": 19,
     "metadata": {},
     "output_type": "execute_result"
    }
   ],
   "source": [
    "#2-a Encoder la d'outils \n",
    "\n",
    "# Appliquer le One hot encoding \n",
    "outils_hot_enc = pd.get_dummies(outils[\"Outils\"], columns= [\"Outils\"])\n",
    "# Un des colonnes est une chaine vide\n",
    "outils_hot_enc=outils_hot_enc.drop([''], axis=1)\n",
    "# Inclure l'index dans la base pour faire l'aggrégation plus tard\n",
    "outils_hot_enc=outils_hot_enc.reset_index()\n",
    "# Sommer les valeurs ayant le meme index pour obtenir des lignes uniques \n",
    "outils_hot_enc=outils_hot_enc.groupby('index').sum().reset_index()\n",
    "outils_hot_enc\n",
    "# drop index \n",
    "#outils_hot_enc=outils_hot_enc.drop(['index'], axis=1)\n",
    "outils_hot_enc=outils_hot_enc[['index','Python','R','SQL','Java','Hadoop']] # Choisir que les 5 premiers \n",
    "#outils les plus utilisés sinn on aura plus que 60 colonnes et le modèle risque de ne pas bien classifier\n",
    "\n",
    "outils_hot_enc"
   ]
  },
  {
   "cell_type": "code",
   "execution_count": 20,
   "id": "43e9224b-e8a5-46dd-b929-6939dea97143",
   "metadata": {},
   "outputs": [
    {
     "data": {
      "text/html": [
       "<div>\n",
       "<style scoped>\n",
       "    .dataframe tbody tr th:only-of-type {\n",
       "        vertical-align: middle;\n",
       "    }\n",
       "\n",
       "    .dataframe tbody tr th {\n",
       "        vertical-align: top;\n",
       "    }\n",
       "\n",
       "    .dataframe thead th {\n",
       "        text-align: right;\n",
       "    }\n",
       "</style>\n",
       "<table border=\"1\" class=\"dataframe\">\n",
       "  <thead>\n",
       "    <tr style=\"text-align: right;\">\n",
       "      <th></th>\n",
       "      <th>index</th>\n",
       "      <th>Python</th>\n",
       "      <th>R</th>\n",
       "      <th>SQL</th>\n",
       "      <th>Java</th>\n",
       "      <th>Hadoop</th>\n",
       "    </tr>\n",
       "  </thead>\n",
       "  <tbody>\n",
       "    <tr>\n",
       "      <th>min</th>\n",
       "      <td>0.0</td>\n",
       "      <td>0.0</td>\n",
       "      <td>0.0</td>\n",
       "      <td>0.0</td>\n",
       "      <td>0.0</td>\n",
       "      <td>0.0</td>\n",
       "    </tr>\n",
       "    <tr>\n",
       "      <th>max</th>\n",
       "      <td>9581.0</td>\n",
       "      <td>1.0</td>\n",
       "      <td>1.0</td>\n",
       "      <td>1.0</td>\n",
       "      <td>1.0</td>\n",
       "      <td>1.0</td>\n",
       "    </tr>\n",
       "  </tbody>\n",
       "</table>\n",
       "</div>"
      ],
      "text/plain": [
       "      index  Python    R  SQL  Java  Hadoop\n",
       "min     0.0     0.0  0.0  0.0   0.0     0.0\n",
       "max  9581.0     1.0  1.0  1.0   1.0     1.0"
      ]
     },
     "execution_count": 20,
     "metadata": {},
     "output_type": "execute_result"
    }
   ],
   "source": [
    "# S'assurer que le maximum de chaque variable est 1\n",
    "outils_hot_enc.describe().loc[['min','max']]"
   ]
  },
  {
   "cell_type": "code",
   "execution_count": 21,
   "id": "f8e7636b-617e-464f-8794-677fef560d35",
   "metadata": {},
   "outputs": [
    {
     "data": {
      "text/html": [
       "<div>\n",
       "<style scoped>\n",
       "    .dataframe tbody tr th:only-of-type {\n",
       "        vertical-align: middle;\n",
       "    }\n",
       "\n",
       "    .dataframe tbody tr th {\n",
       "        vertical-align: top;\n",
       "    }\n",
       "\n",
       "    .dataframe thead th {\n",
       "        text-align: right;\n",
       "    }\n",
       "</style>\n",
       "<table border=\"1\" class=\"dataframe\">\n",
       "  <thead>\n",
       "    <tr style=\"text-align: right;\">\n",
       "      <th></th>\n",
       "      <th>Experience</th>\n",
       "      <th>Metier</th>\n",
       "      <th>Diplome</th>\n",
       "      <th>Technologies</th>\n",
       "    </tr>\n",
       "  </thead>\n",
       "  <tbody>\n",
       "    <tr>\n",
       "      <th>0</th>\n",
       "      <td>1.0</td>\n",
       "      <td>Data scientist</td>\n",
       "      <td>Master</td>\n",
       "      <td>Matlab/Python/Pyspark/Scikit-learn/Tensorflow</td>\n",
       "    </tr>\n",
       "    <tr>\n",
       "      <th>1</th>\n",
       "      <td>3.0</td>\n",
       "      <td>Data architecte</td>\n",
       "      <td>Master</td>\n",
       "      <td>Python/Java/Scala/MongoDB</td>\n",
       "    </tr>\n",
       "    <tr>\n",
       "      <th>2</th>\n",
       "      <td>3.0</td>\n",
       "      <td>Lead data scientist</td>\n",
       "      <td>Master</td>\n",
       "      <td>SPSS/SQL/Teradata/R/Python/Tensorflow/scikit-l...</td>\n",
       "    </tr>\n",
       "    <tr>\n",
       "      <th>3</th>\n",
       "      <td>1.5</td>\n",
       "      <td>Data scientist</td>\n",
       "      <td>Master</td>\n",
       "      <td>C/C++/Java/Python</td>\n",
       "    </tr>\n",
       "    <tr>\n",
       "      <th>4</th>\n",
       "      <td>2.0</td>\n",
       "      <td>Data scientist</td>\n",
       "      <td>Phd</td>\n",
       "      <td>Matlab/Python/C++/numpy/Tensorflow/scikit-learn</td>\n",
       "    </tr>\n",
       "    <tr>\n",
       "      <th>...</th>\n",
       "      <td>...</td>\n",
       "      <td>...</td>\n",
       "      <td>...</td>\n",
       "      <td>...</td>\n",
       "    </tr>\n",
       "    <tr>\n",
       "      <th>9577</th>\n",
       "      <td>1.5</td>\n",
       "      <td>Data scientist</td>\n",
       "      <td>Master</td>\n",
       "      <td>C++/R/Python/Matlab/Matplotlib</td>\n",
       "    </tr>\n",
       "    <tr>\n",
       "      <th>9578</th>\n",
       "      <td>11.0</td>\n",
       "      <td>Data scientist</td>\n",
       "      <td>Master</td>\n",
       "      <td>Excel/Python/Matlab/R/machine learning/anglais</td>\n",
       "    </tr>\n",
       "    <tr>\n",
       "      <th>9579</th>\n",
       "      <td>1.0</td>\n",
       "      <td>Data scientist</td>\n",
       "      <td>Master</td>\n",
       "      <td>R/machine learning/Excel/VBA</td>\n",
       "    </tr>\n",
       "    <tr>\n",
       "      <th>9580</th>\n",
       "      <td>17.0</td>\n",
       "      <td>Data scientist</td>\n",
       "      <td>Master</td>\n",
       "      <td>Python/Pyspark/machine learning/Microsoft Azure</td>\n",
       "    </tr>\n",
       "    <tr>\n",
       "      <th>9581</th>\n",
       "      <td>0.0</td>\n",
       "      <td>Data scientist</td>\n",
       "      <td>Phd</td>\n",
       "      <td>VBA/Python/Excel/R</td>\n",
       "    </tr>\n",
       "  </tbody>\n",
       "</table>\n",
       "<p>9563 rows × 4 columns</p>\n",
       "</div>"
      ],
      "text/plain": [
       "      Experience               Metier Diplome  \\\n",
       "0            1.0       Data scientist  Master   \n",
       "1            3.0      Data architecte  Master   \n",
       "2            3.0  Lead data scientist  Master   \n",
       "3            1.5       Data scientist  Master   \n",
       "4            2.0       Data scientist     Phd   \n",
       "...          ...                  ...     ...   \n",
       "9577         1.5       Data scientist  Master   \n",
       "9578        11.0       Data scientist  Master   \n",
       "9579         1.0       Data scientist  Master   \n",
       "9580        17.0       Data scientist  Master   \n",
       "9581         0.0       Data scientist     Phd   \n",
       "\n",
       "                                           Technologies  \n",
       "0         Matlab/Python/Pyspark/Scikit-learn/Tensorflow  \n",
       "1                             Python/Java/Scala/MongoDB  \n",
       "2     SPSS/SQL/Teradata/R/Python/Tensorflow/scikit-l...  \n",
       "3                                     C/C++/Java/Python  \n",
       "4       Matlab/Python/C++/numpy/Tensorflow/scikit-learn  \n",
       "...                                                 ...  \n",
       "9577                     C++/R/Python/Matlab/Matplotlib  \n",
       "9578     Excel/Python/Matlab/R/machine learning/anglais  \n",
       "9579                       R/machine learning/Excel/VBA  \n",
       "9580    Python/Pyspark/machine learning/Microsoft Azure  \n",
       "9581                                 VBA/Python/Excel/R  \n",
       "\n",
       "[9563 rows x 4 columns]"
      ]
     },
     "execution_count": 21,
     "metadata": {},
     "output_type": "execute_result"
    }
   ],
   "source": [
    "df_no_na"
   ]
  },
  {
   "cell_type": "code",
   "execution_count": 22,
   "id": "282da176-1396-42f5-82b5-e82a1a834666",
   "metadata": {},
   "outputs": [
    {
     "data": {
      "text/html": [
       "<div>\n",
       "<style scoped>\n",
       "    .dataframe tbody tr th:only-of-type {\n",
       "        vertical-align: middle;\n",
       "    }\n",
       "\n",
       "    .dataframe tbody tr th {\n",
       "        vertical-align: top;\n",
       "    }\n",
       "\n",
       "    .dataframe thead th {\n",
       "        text-align: right;\n",
       "    }\n",
       "</style>\n",
       "<table border=\"1\" class=\"dataframe\">\n",
       "  <thead>\n",
       "    <tr style=\"text-align: right;\">\n",
       "      <th></th>\n",
       "      <th>index</th>\n",
       "      <th>Experience</th>\n",
       "      <th>Metier_Data architecte</th>\n",
       "      <th>Metier_Data engineer</th>\n",
       "      <th>Metier_Data scientist</th>\n",
       "      <th>Metier_Lead data scientist</th>\n",
       "      <th>Diplome_Bachelor</th>\n",
       "      <th>Diplome_Master</th>\n",
       "      <th>Diplome_No diploma</th>\n",
       "      <th>Diplome_Phd</th>\n",
       "    </tr>\n",
       "  </thead>\n",
       "  <tbody>\n",
       "    <tr>\n",
       "      <th>0</th>\n",
       "      <td>0</td>\n",
       "      <td>1.0</td>\n",
       "      <td>0</td>\n",
       "      <td>0</td>\n",
       "      <td>1</td>\n",
       "      <td>0</td>\n",
       "      <td>0</td>\n",
       "      <td>1</td>\n",
       "      <td>0</td>\n",
       "      <td>0</td>\n",
       "    </tr>\n",
       "    <tr>\n",
       "      <th>1</th>\n",
       "      <td>1</td>\n",
       "      <td>3.0</td>\n",
       "      <td>1</td>\n",
       "      <td>0</td>\n",
       "      <td>0</td>\n",
       "      <td>0</td>\n",
       "      <td>0</td>\n",
       "      <td>1</td>\n",
       "      <td>0</td>\n",
       "      <td>0</td>\n",
       "    </tr>\n",
       "    <tr>\n",
       "      <th>2</th>\n",
       "      <td>2</td>\n",
       "      <td>3.0</td>\n",
       "      <td>0</td>\n",
       "      <td>0</td>\n",
       "      <td>0</td>\n",
       "      <td>1</td>\n",
       "      <td>0</td>\n",
       "      <td>1</td>\n",
       "      <td>0</td>\n",
       "      <td>0</td>\n",
       "    </tr>\n",
       "    <tr>\n",
       "      <th>3</th>\n",
       "      <td>3</td>\n",
       "      <td>1.5</td>\n",
       "      <td>0</td>\n",
       "      <td>0</td>\n",
       "      <td>1</td>\n",
       "      <td>0</td>\n",
       "      <td>0</td>\n",
       "      <td>1</td>\n",
       "      <td>0</td>\n",
       "      <td>0</td>\n",
       "    </tr>\n",
       "    <tr>\n",
       "      <th>4</th>\n",
       "      <td>4</td>\n",
       "      <td>2.0</td>\n",
       "      <td>0</td>\n",
       "      <td>0</td>\n",
       "      <td>1</td>\n",
       "      <td>0</td>\n",
       "      <td>0</td>\n",
       "      <td>0</td>\n",
       "      <td>0</td>\n",
       "      <td>1</td>\n",
       "    </tr>\n",
       "  </tbody>\n",
       "</table>\n",
       "</div>"
      ],
      "text/plain": [
       "   index  Experience  Metier_Data architecte  Metier_Data engineer  \\\n",
       "0      0         1.0                       0                     0   \n",
       "1      1         3.0                       1                     0   \n",
       "2      2         3.0                       0                     0   \n",
       "3      3         1.5                       0                     0   \n",
       "4      4         2.0                       0                     0   \n",
       "\n",
       "   Metier_Data scientist  Metier_Lead data scientist  Diplome_Bachelor  \\\n",
       "0                      1                           0                 0   \n",
       "1                      0                           0                 0   \n",
       "2                      0                           1                 0   \n",
       "3                      1                           0                 0   \n",
       "4                      1                           0                 0   \n",
       "\n",
       "   Diplome_Master  Diplome_No diploma  Diplome_Phd  \n",
       "0               1                   0            0  \n",
       "1               1                   0            0  \n",
       "2               1                   0            0  \n",
       "3               1                   0            0  \n",
       "4               0                   0            1  "
      ]
     },
     "execution_count": 22,
     "metadata": {},
     "output_type": "execute_result"
    }
   ],
   "source": [
    "#2-b Encoder la base des autres variables \n",
    "# Ajouter à la variable experience les variables encodés de métier et diplome, les variables entreprises\n",
    "#et ville ne me semblent pas significatifs\n",
    "c_data_coded = pd.get_dummies(df_no_na[[\"Experience\",\"Metier\", \"Diplome\"]], columns= [\"Metier\", \"Diplome\"])\n",
    "c_data_coded=c_data_coded.reset_index()\n",
    "c_data_coded.head()"
   ]
  },
  {
   "cell_type": "code",
   "execution_count": 23,
   "id": "8d1fff1a-c4da-4105-aede-ee4dab618df7",
   "metadata": {},
   "outputs": [
    {
     "data": {
      "text/html": [
       "<div>\n",
       "<style scoped>\n",
       "    .dataframe tbody tr th:only-of-type {\n",
       "        vertical-align: middle;\n",
       "    }\n",
       "\n",
       "    .dataframe tbody tr th {\n",
       "        vertical-align: top;\n",
       "    }\n",
       "\n",
       "    .dataframe thead th {\n",
       "        text-align: right;\n",
       "    }\n",
       "</style>\n",
       "<table border=\"1\" class=\"dataframe\">\n",
       "  <thead>\n",
       "    <tr style=\"text-align: right;\">\n",
       "      <th></th>\n",
       "      <th>Experience</th>\n",
       "      <th>Metier_Data architecte</th>\n",
       "      <th>Metier_Data engineer</th>\n",
       "      <th>Metier_Data scientist</th>\n",
       "      <th>Metier_Lead data scientist</th>\n",
       "      <th>Diplome_Bachelor</th>\n",
       "      <th>Diplome_Master</th>\n",
       "      <th>Diplome_No diploma</th>\n",
       "      <th>Diplome_Phd</th>\n",
       "      <th>Python</th>\n",
       "      <th>R</th>\n",
       "      <th>SQL</th>\n",
       "      <th>Java</th>\n",
       "      <th>Hadoop</th>\n",
       "    </tr>\n",
       "  </thead>\n",
       "  <tbody>\n",
       "    <tr>\n",
       "      <th>0</th>\n",
       "      <td>1.0</td>\n",
       "      <td>0</td>\n",
       "      <td>0</td>\n",
       "      <td>1</td>\n",
       "      <td>0</td>\n",
       "      <td>0</td>\n",
       "      <td>1</td>\n",
       "      <td>0</td>\n",
       "      <td>0</td>\n",
       "      <td>1</td>\n",
       "      <td>0</td>\n",
       "      <td>0</td>\n",
       "      <td>0</td>\n",
       "      <td>0</td>\n",
       "    </tr>\n",
       "    <tr>\n",
       "      <th>1</th>\n",
       "      <td>3.0</td>\n",
       "      <td>1</td>\n",
       "      <td>0</td>\n",
       "      <td>0</td>\n",
       "      <td>0</td>\n",
       "      <td>0</td>\n",
       "      <td>1</td>\n",
       "      <td>0</td>\n",
       "      <td>0</td>\n",
       "      <td>1</td>\n",
       "      <td>0</td>\n",
       "      <td>0</td>\n",
       "      <td>1</td>\n",
       "      <td>0</td>\n",
       "    </tr>\n",
       "    <tr>\n",
       "      <th>2</th>\n",
       "      <td>3.0</td>\n",
       "      <td>0</td>\n",
       "      <td>0</td>\n",
       "      <td>0</td>\n",
       "      <td>1</td>\n",
       "      <td>0</td>\n",
       "      <td>1</td>\n",
       "      <td>0</td>\n",
       "      <td>0</td>\n",
       "      <td>1</td>\n",
       "      <td>1</td>\n",
       "      <td>1</td>\n",
       "      <td>0</td>\n",
       "      <td>0</td>\n",
       "    </tr>\n",
       "    <tr>\n",
       "      <th>3</th>\n",
       "      <td>1.5</td>\n",
       "      <td>0</td>\n",
       "      <td>0</td>\n",
       "      <td>1</td>\n",
       "      <td>0</td>\n",
       "      <td>0</td>\n",
       "      <td>1</td>\n",
       "      <td>0</td>\n",
       "      <td>0</td>\n",
       "      <td>1</td>\n",
       "      <td>0</td>\n",
       "      <td>0</td>\n",
       "      <td>1</td>\n",
       "      <td>0</td>\n",
       "    </tr>\n",
       "    <tr>\n",
       "      <th>4</th>\n",
       "      <td>2.0</td>\n",
       "      <td>0</td>\n",
       "      <td>0</td>\n",
       "      <td>1</td>\n",
       "      <td>0</td>\n",
       "      <td>0</td>\n",
       "      <td>0</td>\n",
       "      <td>0</td>\n",
       "      <td>1</td>\n",
       "      <td>1</td>\n",
       "      <td>0</td>\n",
       "      <td>0</td>\n",
       "      <td>0</td>\n",
       "      <td>0</td>\n",
       "    </tr>\n",
       "  </tbody>\n",
       "</table>\n",
       "</div>"
      ],
      "text/plain": [
       "   Experience  Metier_Data architecte  Metier_Data engineer  \\\n",
       "0         1.0                       0                     0   \n",
       "1         3.0                       1                     0   \n",
       "2         3.0                       0                     0   \n",
       "3         1.5                       0                     0   \n",
       "4         2.0                       0                     0   \n",
       "\n",
       "   Metier_Data scientist  Metier_Lead data scientist  Diplome_Bachelor  \\\n",
       "0                      1                           0                 0   \n",
       "1                      0                           0                 0   \n",
       "2                      0                           1                 0   \n",
       "3                      1                           0                 0   \n",
       "4                      1                           0                 0   \n",
       "\n",
       "   Diplome_Master  Diplome_No diploma  Diplome_Phd  Python  R  SQL  Java  \\\n",
       "0               1                   0            0       1  0    0     0   \n",
       "1               1                   0            0       1  0    0     1   \n",
       "2               1                   0            0       1  1    1     0   \n",
       "3               1                   0            0       1  0    0     1   \n",
       "4               0                   0            1       1  0    0     0   \n",
       "\n",
       "   Hadoop  \n",
       "0       0  \n",
       "1       0  \n",
       "2       0  \n",
       "3       0  \n",
       "4       0  "
      ]
     },
     "execution_count": 23,
     "metadata": {},
     "output_type": "execute_result"
    }
   ],
   "source": [
    "# Union des deux bases \n",
    "coded_data_all = pd.merge(c_data_coded, outils_hot_enc, on='index', how='inner')\n",
    "# Effacer la variable index\n",
    "coded_data_all=coded_data_all.drop(columns=\"index\",axis=1)\n",
    "coded_data_all.head()\n"
   ]
  },
  {
   "cell_type": "code",
   "execution_count": 24,
   "id": "867b9875-cb5d-4e58-98ba-32eb21aba37c",
   "metadata": {},
   "outputs": [
    {
     "data": {
      "text/plain": [
       "array([[0.04761905, 0.        , 0.        , ..., 0.        , 0.        ,\n",
       "        0.        ],\n",
       "       [0.14285714, 1.        , 0.        , ..., 0.        , 1.        ,\n",
       "        0.        ],\n",
       "       [0.14285714, 0.        , 0.        , ..., 1.        , 0.        ,\n",
       "        0.        ],\n",
       "       ...,\n",
       "       [0.04761905, 0.        , 0.        , ..., 0.        , 0.        ,\n",
       "        0.        ],\n",
       "       [0.80952381, 0.        , 0.        , ..., 0.        , 0.        ,\n",
       "        0.        ],\n",
       "       [0.        , 0.        , 0.        , ..., 0.        , 0.        ,\n",
       "        0.        ]])"
      ]
     },
     "execution_count": 24,
     "metadata": {},
     "output_type": "execute_result"
    }
   ],
   "source": [
    "# Standardiser la base de données obtenue\n",
    "scaler = MinMaxScaler() # Permet de standardiser la base de données pour obtenir des nouvelles valeurs avec\n",
    "#une moyenne nulle et un écart-type de 1. Cette étape est importante pour s'assurer qu'une variable \n",
    "#n'est pas interprétée comme étant plus importante que l'autre.\n",
    "scaled_features = scaler.fit_transform(coded_data_all) #appliquer la  standardisation\n",
    "scaled_features # Résultats "
   ]
  },
  {
   "cell_type": "markdown",
   "id": "6efd3e65-bcfa-43ee-b4fd-8ec95bedf36a",
   "metadata": {},
   "source": [
    "a. Justifier le nombre de clusters \n"
   ]
  },
  {
   "cell_type": "code",
   "execution_count": 25,
   "id": "e061384d-5861-4003-9d08-e92bc60aa705",
   "metadata": {},
   "outputs": [
    {
     "name": "stderr",
     "output_type": "stream",
     "text": [
      "findfont: Font family ['sans-serif'] not found. Falling back to DejaVu Sans.\n",
      "findfont: Generic family 'sans-serif' not found because none of the following families were found: Arial, Liberation Sans, Bitstream Vera Sans, sans-serif\n"
     ]
    },
    {
     "data": {
      "image/png": "[encoded data removed]",
      "text/plain": [
       "<Figure size 576x396 with 1 Axes>"
      ]
     },
     "metadata": {},
     "output_type": "display_data"
    },
    {
     "name": "stdout",
     "output_type": "stream",
     "text": [
      "\n",
      "\n",
      "L effet de coude est observable pour k=5, ce qui signifie que 5 est le nombre optimal de clusters\n"
     ]
    }
   ],
   "source": [
    "# A list holds the SSE values for each k\n",
    "km = {\n",
    "     \"init\": \"random\",\n",
    "     \"n_init\": 10,\n",
    "     \"max_iter\": 100,\n",
    "     \"random_state\": 42,\n",
    "\n",
    "}\n",
    "# A list holds the SSE values for each k\n",
    "\n",
    "sse = []\n",
    "for k in range(1, 11):\n",
    "    kmeans = KMeans(n_clusters=k, **km)\n",
    "    kmeans.fit(scaled_features)\n",
    "    sse.append(kmeans.inertia_)\n",
    "\n",
    "plt.style.use(\"fivethirtyeight\")\n",
    "plt.plot(range(1, 11), sse)\n",
    "plt.xticks(range(1, 11))\n",
    "plt.xlabel(\"Nombre de clusters\")\n",
    "plt.ylabel(\"SSE\")\n",
    "plt.title(\"Somme des carrés des erreurs en fonction du nombre de clusters\", size=18)\n",
    "plt.show()\n",
    "print ('\\n')\n",
    "print ('L effet de coude est observable pour k=5, ce qui signifie que 5 est le nombre optimal de clusters')"
   ]
  },
  {
   "cell_type": "markdown",
   "id": "ee841f89-96b2-4c09-9421-900211f7c901",
   "metadata": {},
   "source": [
    "b. Justifier la performance de votre algorithme grâce à une métrique."
   ]
  },
  {
   "cell_type": "code",
   "execution_count": 26,
   "id": "3345f1b5-79cf-4082-ae80-b7567ef94265",
   "metadata": {},
   "outputs": [
    {
     "data": {
      "image/png": "[encoded data removed]",
      "text/plain": [
       "<Figure size 576x396 with 1 Axes>"
      ]
     },
     "metadata": {},
     "output_type": "display_data"
    }
   ],
   "source": [
    "# S'investiguer plus pour assurer un bon choix du nombre de clusters étant donné que 5 clusters parait \n",
    "#beaucoup,si la différence de l'indice de silhouette n'est pas grand, on peut considerer 3 clusters uniquement  \n",
    "\n",
    "km = {\n",
    "     \"init\": \"random\",\n",
    "     \"n_init\": 10,\n",
    "     \"max_iter\": 100,\n",
    "     \"random_state\": 42,\n",
    "\n",
    "}\n",
    "\n",
    "# Intialiser la liste qui contiendra les indices de silhouette pour chaque k\n",
    "silhouette_coefficients = []\n",
    "\n",
    "#L'indice de silhouette varie entre -1 et 1. Plus c'est proche de 1  plus ca indique que les échantillons\n",
    "#sont plus proches des observations dans le meme cluster que les observations des clusters voisins.\n",
    "for k in range(2, 11):\n",
    "    kmeans = KMeans(n_clusters=k, **km)\n",
    "    kmeans.fit(scaled_features)\n",
    "    score = silhouette_score(scaled_features, kmeans.labels_)\n",
    "    silhouette_coefficients.append(score)\n",
    "    \n",
    "plt.style.use(\"fivethirtyeight\")\n",
    "plt.plot(range(2, 11), silhouette_coefficients)\n",
    "plt.xticks(range(2, 11))\n",
    "plt.xlabel(\"Nombre de clusters\")\n",
    "plt.ylabel(\"Indice de Silhouette\")\n",
    "plt.title(\"Indice de Silhouette en fonction du nombre de clusters\", size=18)\n",
    "\n",
    "plt.show()"
   ]
  },
  {
   "cell_type": "code",
   "execution_count": 27,
   "id": "8b1d2547-bca5-4bc6-a0d5-1fe2f1e5c11c",
   "metadata": {},
   "outputs": [
    {
     "name": "stdout",
     "output_type": "stream",
     "text": [
      "L indice de silhouette est égale à  0.3 \n",
      "\n",
      "Cet cet indice reflète la distance entre les points au sein d un meme cluster et entre les clusters plus c est proche de 1, mieux c est. \n"
     ]
    }
   ],
   "source": [
    "#Calcul de l'indice de silhouaite correspondant à k=5\n",
    "kmeans = KMeans(\n",
    "     init=\"random\", # init controls the initialization technique. \n",
    "    #The standard version of the k-means algorithm is implemented by setting init to \"random\"\n",
    "     n_clusters=5, # n_clusters sets k for the clustering step. \n",
    "     n_init=10, # n_init sets the number of initializations to perform.\n",
    "     max_iter=100, # max_iter sets the number of maximum iterations for each initialization \n",
    "     random_state=42 # Fixer la graine\n",
    ")\n",
    "\n",
    "kmeans.fit(scaled_features)\n",
    "\n",
    "\n",
    "score = silhouette_score(scaled_features, kmeans.labels_, metric='euclidean')\n",
    "print('L indice de silhouette est égale à ', round(score ,2) ,'\\n')  \n",
    "print('Cet cet indice reflète la distance entre les points au sein d un meme cluster et entre les clusters',\n",
    "      'plus c est proche de 1, mieux c est. ') "
   ]
  },
  {
   "cell_type": "code",
   "execution_count": 28,
   "id": "a8d9a8f0-39bd-4c56-b168-ec1785b45dae",
   "metadata": {},
   "outputs": [
    {
     "data": {
      "text/plain": [
       "10939.803252866186"
      ]
     },
     "execution_count": 28,
     "metadata": {},
     "output_type": "execute_result"
    }
   ],
   "source": [
    "#SSE value\n",
    "kmeans.inertia_"
   ]
  },
  {
   "cell_type": "markdown",
   "id": "a3a07208-f8f1-48a4-ac65-a8995d48b5e4",
   "metadata": {},
   "source": [
    " c. Donnez les caractéristiques de chacun des clusters et interprétez."
   ]
  },
  {
   "cell_type": "code",
   "execution_count": 29,
   "id": "05b6b352-fa04-4ca3-aa28-d7763061cd32",
   "metadata": {},
   "outputs": [
    {
     "data": {
      "text/html": [
       "<div>\n",
       "<style scoped>\n",
       "    .dataframe tbody tr th:only-of-type {\n",
       "        vertical-align: middle;\n",
       "    }\n",
       "\n",
       "    .dataframe tbody tr th {\n",
       "        vertical-align: top;\n",
       "    }\n",
       "\n",
       "    .dataframe thead th {\n",
       "        text-align: right;\n",
       "    }\n",
       "</style>\n",
       "<table border=\"1\" class=\"dataframe\">\n",
       "  <thead>\n",
       "    <tr style=\"text-align: right;\">\n",
       "      <th></th>\n",
       "      <th>Experience</th>\n",
       "      <th>Metier</th>\n",
       "      <th>Diplome</th>\n",
       "      <th>Technologies</th>\n",
       "      <th>Exp_label</th>\n",
       "      <th>labels</th>\n",
       "    </tr>\n",
       "  </thead>\n",
       "  <tbody>\n",
       "    <tr>\n",
       "      <th>0</th>\n",
       "      <td>1.0</td>\n",
       "      <td>Data scientist</td>\n",
       "      <td>Master</td>\n",
       "      <td>Matlab/Python/Pyspark/Scikit-learn/Tensorflow</td>\n",
       "      <td>Debutant</td>\n",
       "      <td>3</td>\n",
       "    </tr>\n",
       "    <tr>\n",
       "      <th>1</th>\n",
       "      <td>3.0</td>\n",
       "      <td>Data architecte</td>\n",
       "      <td>Master</td>\n",
       "      <td>Python/Java/Scala/MongoDB</td>\n",
       "      <td>Confirmé</td>\n",
       "      <td>2</td>\n",
       "    </tr>\n",
       "    <tr>\n",
       "      <th>2</th>\n",
       "      <td>3.0</td>\n",
       "      <td>Lead data scientist</td>\n",
       "      <td>Master</td>\n",
       "      <td>SPSS/SQL/Teradata/R/Python/Tensorflow/scikit-l...</td>\n",
       "      <td>Confirmé</td>\n",
       "      <td>4</td>\n",
       "    </tr>\n",
       "    <tr>\n",
       "      <th>3</th>\n",
       "      <td>1.5</td>\n",
       "      <td>Data scientist</td>\n",
       "      <td>Master</td>\n",
       "      <td>C/C++/Java/Python</td>\n",
       "      <td>Debutant</td>\n",
       "      <td>3</td>\n",
       "    </tr>\n",
       "    <tr>\n",
       "      <th>4</th>\n",
       "      <td>2.0</td>\n",
       "      <td>Data scientist</td>\n",
       "      <td>Phd</td>\n",
       "      <td>Matlab/Python/C++/numpy/Tensorflow/scikit-learn</td>\n",
       "      <td>Debutant</td>\n",
       "      <td>1</td>\n",
       "    </tr>\n",
       "  </tbody>\n",
       "</table>\n",
       "</div>"
      ],
      "text/plain": [
       "   Experience               Metier Diplome  \\\n",
       "0         1.0       Data scientist  Master   \n",
       "1         3.0      Data architecte  Master   \n",
       "2         3.0  Lead data scientist  Master   \n",
       "3         1.5       Data scientist  Master   \n",
       "4         2.0       Data scientist     Phd   \n",
       "\n",
       "                                        Technologies Exp_label  labels  \n",
       "0      Matlab/Python/Pyspark/Scikit-learn/Tensorflow  Debutant       3  \n",
       "1                          Python/Java/Scala/MongoDB  Confirmé       2  \n",
       "2  SPSS/SQL/Teradata/R/Python/Tensorflow/scikit-l...  Confirmé       4  \n",
       "3                                  C/C++/Java/Python  Debutant       3  \n",
       "4    Matlab/Python/C++/numpy/Tensorflow/scikit-learn  Debutant       1  "
      ]
     },
     "execution_count": 29,
     "metadata": {},
     "output_type": "execute_result"
    }
   ],
   "source": [
    "# concaténer les clusters avec la base de données ( sans valeurs manquantes) \n",
    "df_no_na_con = c_data[[\"Experience\",\"Metier\",\n",
    "                       \"Diplome\",\"Technologies\",\"Exp_label\"]].dropna().reset_index(drop=True)\n",
    "labels_ = kmeans.labels_\n",
    "labels= pd.DataFrame(labels_)\n",
    "labeleddata = pd.concat((df_no_na_con,labels),axis=1)\n",
    "labeleddata = labeleddata.rename({0:'labels'},axis=1)\n",
    "labeleddata.head()"
   ]
  },
  {
   "cell_type": "code",
   "execution_count": 30,
   "id": "ceb2c1d2-df2c-4833-b79c-b272eba602f5",
   "metadata": {},
   "outputs": [
    {
     "data": {
      "image/png": "[encoded data removed]",
      "text/plain": [
       "<Figure size 576x396 with 1 Axes>"
      ]
     },
     "metadata": {},
     "output_type": "display_data"
    }
   ],
   "source": [
    "#Barplot des métiers par cluster\n",
    "metier_counts = (labeleddata.groupby(['labels'])['Metier']\n",
    "                     .value_counts(normalize=True)\n",
    "                     .rename('Pourcentage')\n",
    "                     .mul(100)\n",
    "                     .reset_index()\n",
    "                     .sort_values('Metier'))\n",
    "sns.barplot(x=\"Metier\", y=\"Pourcentage\", hue=\"labels\", data=metier_counts)\n",
    "plt.title(\"Pourcentage des métiers dans chaque cluster\", size=18)\n",
    "plt.show()"
   ]
  },
  {
   "cell_type": "markdown",
   "id": "26a7351c-61dc-421d-91ac-db711ad85b64",
   "metadata": {},
   "source": [
    "Le clustering selon 5 classes a donné des clusters trop détaillés de telle sorte que chaque est métier est un cluster. Nous passons donc à deux classes."
   ]
  },
  {
   "cell_type": "markdown",
   "id": "c00e2ac7-bd25-4f0d-aab5-1e29a76b7ec8",
   "metadata": {},
   "source": [
    "b. Métrique de performance "
   ]
  },
  {
   "cell_type": "code",
   "execution_count": 31,
   "id": "de0a21f9-b67e-4ac2-bbf7-7787c5dd0e2f",
   "metadata": {},
   "outputs": [
    {
     "name": "stdout",
     "output_type": "stream",
     "text": [
      "L indice de silhouette pour k=2 est égale à  0.25 \n",
      "\n",
      "Cet cet indice reflète la distance entre les points au sein d un meme cluster et entre les clusters plus c est proche de 1, mieux c est. \n"
     ]
    }
   ],
   "source": [
    "#Calcul de l'indice de silhouaite correspondant à k=2\n",
    "kmeans = KMeans(\n",
    "     init=\"random\", # init controls the initialization technique. \n",
    "     n_clusters=2, # n_clusters sets k for the clustering step. \n",
    "     n_init=10, # n_init sets the number of initializations to perform. \n",
    "     max_iter=100, # max_iter sets the number of maximum iterations for each initialization \n",
    "     random_state=42 # Fixer la graine\n",
    ")\n",
    "\n",
    "kmeans.fit(scaled_features)\n",
    "\n",
    "\n",
    "score = silhouette_score(scaled_features, kmeans.labels_, metric='euclidean')\n",
    "print('L indice de silhouette pour k=2 est égale à ', round(score ,2) ,'\\n')  \n",
    "print('Cet cet indice reflète la distance entre les points au sein d un meme cluster et entre les clusters',\n",
    "      'plus c est proche de 1, mieux c est. ') "
   ]
  },
  {
   "cell_type": "markdown",
   "id": "b77f3522-d6c3-4a4c-b735-66738df3eb8b",
   "metadata": {},
   "source": [
    " c. Donnez les caractéristiques de chacun des clusters et interprétez."
   ]
  },
  {
   "cell_type": "code",
   "execution_count": 32,
   "id": "c7761ff7-c016-44cb-bab9-4dd4d81c098a",
   "metadata": {},
   "outputs": [
    {
     "data": {
      "text/html": [
       "<div>\n",
       "<style scoped>\n",
       "    .dataframe tbody tr th:only-of-type {\n",
       "        vertical-align: middle;\n",
       "    }\n",
       "\n",
       "    .dataframe tbody tr th {\n",
       "        vertical-align: top;\n",
       "    }\n",
       "\n",
       "    .dataframe thead th {\n",
       "        text-align: right;\n",
       "    }\n",
       "</style>\n",
       "<table border=\"1\" class=\"dataframe\">\n",
       "  <thead>\n",
       "    <tr style=\"text-align: right;\">\n",
       "      <th></th>\n",
       "      <th>Experience</th>\n",
       "      <th>Metier</th>\n",
       "      <th>Diplome</th>\n",
       "      <th>Technologies</th>\n",
       "      <th>Exp_label</th>\n",
       "      <th>labels</th>\n",
       "    </tr>\n",
       "  </thead>\n",
       "  <tbody>\n",
       "    <tr>\n",
       "      <th>0</th>\n",
       "      <td>1.0</td>\n",
       "      <td>Data scientist</td>\n",
       "      <td>Master</td>\n",
       "      <td>Matlab/Python/Pyspark/Scikit-learn/Tensorflow</td>\n",
       "      <td>Debutant</td>\n",
       "      <td>0</td>\n",
       "    </tr>\n",
       "    <tr>\n",
       "      <th>1</th>\n",
       "      <td>3.0</td>\n",
       "      <td>Data architecte</td>\n",
       "      <td>Master</td>\n",
       "      <td>Python/Java/Scala/MongoDB</td>\n",
       "      <td>Confirmé</td>\n",
       "      <td>1</td>\n",
       "    </tr>\n",
       "    <tr>\n",
       "      <th>2</th>\n",
       "      <td>3.0</td>\n",
       "      <td>Lead data scientist</td>\n",
       "      <td>Master</td>\n",
       "      <td>SPSS/SQL/Teradata/R/Python/Tensorflow/scikit-l...</td>\n",
       "      <td>Confirmé</td>\n",
       "      <td>0</td>\n",
       "    </tr>\n",
       "    <tr>\n",
       "      <th>3</th>\n",
       "      <td>1.5</td>\n",
       "      <td>Data scientist</td>\n",
       "      <td>Master</td>\n",
       "      <td>C/C++/Java/Python</td>\n",
       "      <td>Debutant</td>\n",
       "      <td>0</td>\n",
       "    </tr>\n",
       "    <tr>\n",
       "      <th>4</th>\n",
       "      <td>2.0</td>\n",
       "      <td>Data scientist</td>\n",
       "      <td>Phd</td>\n",
       "      <td>Matlab/Python/C++/numpy/Tensorflow/scikit-learn</td>\n",
       "      <td>Debutant</td>\n",
       "      <td>0</td>\n",
       "    </tr>\n",
       "  </tbody>\n",
       "</table>\n",
       "</div>"
      ],
      "text/plain": [
       "   Experience               Metier Diplome  \\\n",
       "0         1.0       Data scientist  Master   \n",
       "1         3.0      Data architecte  Master   \n",
       "2         3.0  Lead data scientist  Master   \n",
       "3         1.5       Data scientist  Master   \n",
       "4         2.0       Data scientist     Phd   \n",
       "\n",
       "                                        Technologies Exp_label  labels  \n",
       "0      Matlab/Python/Pyspark/Scikit-learn/Tensorflow  Debutant       0  \n",
       "1                          Python/Java/Scala/MongoDB  Confirmé       1  \n",
       "2  SPSS/SQL/Teradata/R/Python/Tensorflow/scikit-l...  Confirmé       0  \n",
       "3                                  C/C++/Java/Python  Debutant       0  \n",
       "4    Matlab/Python/C++/numpy/Tensorflow/scikit-learn  Debutant       0  "
      ]
     },
     "execution_count": 32,
     "metadata": {},
     "output_type": "execute_result"
    }
   ],
   "source": [
    "# concaténer les clusters avec la base de données ( sans valeurs manquantes) \n",
    "df_no_na_con = c_data[[\"Experience\",\"Metier\", \"Diplome\",\n",
    "                       \"Technologies\",\"Exp_label\"]].dropna().reset_index(drop=True)\n",
    "labels_ = kmeans.labels_\n",
    "labels= pd.DataFrame(labels_)\n",
    "labeleddata = pd.concat((df_no_na_con,labels),axis=1)\n",
    "labeleddata = labeleddata.rename({0:'labels'},axis=1)\n",
    "labeleddata.head()\n",
    "\n"
   ]
  },
  {
   "cell_type": "code",
   "execution_count": 33,
   "id": "d6816fc3-4f38-4697-aa02-555fc764be40",
   "metadata": {},
   "outputs": [
    {
     "data": {
      "image/png": "[encoded data removed]",
      "text/plain": [
       "<Figure size 576x396 with 1 Axes>"
      ]
     },
     "metadata": {},
     "output_type": "display_data"
    }
   ],
   "source": [
    "#Barplot des métiers par cluster\n",
    "metier_counts = (labeleddata.groupby(['labels'])['Metier']\n",
    "                     .value_counts(normalize=True)\n",
    "                     .rename('Pourcentage')\n",
    "                     .mul(100)\n",
    "                     .reset_index()\n",
    "                     .sort_values('Metier'))\n",
    "sns.barplot(x=\"Metier\", y=\"Pourcentage\", hue=\"labels\", data=metier_counts)\n",
    "plt.title(\"Pourcentage des métiers dans chaque cluster\", size=18)\n",
    "plt.show()"
   ]
  },
  {
   "cell_type": "code",
   "execution_count": 34,
   "id": "b7a71f6e-67cb-46ca-8a22-b2d880893d0d",
   "metadata": {},
   "outputs": [
    {
     "data": {
      "text/html": [
       "<div>\n",
       "<style scoped>\n",
       "    .dataframe tbody tr th:only-of-type {\n",
       "        vertical-align: middle;\n",
       "    }\n",
       "\n",
       "    .dataframe tbody tr th {\n",
       "        vertical-align: top;\n",
       "    }\n",
       "\n",
       "    .dataframe thead th {\n",
       "        text-align: right;\n",
       "    }\n",
       "</style>\n",
       "<table border=\"1\" class=\"dataframe\">\n",
       "  <thead>\n",
       "    <tr style=\"text-align: right;\">\n",
       "      <th></th>\n",
       "      <th>labels</th>\n",
       "      <th>Metier</th>\n",
       "      <th>Pourcentage</th>\n",
       "    </tr>\n",
       "  </thead>\n",
       "  <tbody>\n",
       "    <tr>\n",
       "      <th>3</th>\n",
       "      <td>1</td>\n",
       "      <td>Data architecte</td>\n",
       "      <td>46.424667</td>\n",
       "    </tr>\n",
       "    <tr>\n",
       "      <th>2</th>\n",
       "      <td>1</td>\n",
       "      <td>Data engineer</td>\n",
       "      <td>51.322983</td>\n",
       "    </tr>\n",
       "    <tr>\n",
       "      <th>0</th>\n",
       "      <td>0</td>\n",
       "      <td>Data scientist</td>\n",
       "      <td>77.394790</td>\n",
       "    </tr>\n",
       "    <tr>\n",
       "      <th>5</th>\n",
       "      <td>1</td>\n",
       "      <td>Data scientist</td>\n",
       "      <td>0.065602</td>\n",
       "    </tr>\n",
       "    <tr>\n",
       "      <th>1</th>\n",
       "      <td>0</td>\n",
       "      <td>Lead data scientist</td>\n",
       "      <td>22.605210</td>\n",
       "    </tr>\n",
       "    <tr>\n",
       "      <th>4</th>\n",
       "      <td>1</td>\n",
       "      <td>Lead data scientist</td>\n",
       "      <td>2.186748</td>\n",
       "    </tr>\n",
       "  </tbody>\n",
       "</table>\n",
       "</div>"
      ],
      "text/plain": [
       "   labels               Metier  Pourcentage\n",
       "3       1      Data architecte    46.424667\n",
       "2       1        Data engineer    51.322983\n",
       "0       0       Data scientist    77.394790\n",
       "5       1       Data scientist     0.065602\n",
       "1       0  Lead data scientist    22.605210\n",
       "4       1  Lead data scientist     2.186748"
      ]
     },
     "execution_count": 34,
     "metadata": {},
     "output_type": "execute_result"
    }
   ],
   "source": [
    "metier_counts"
   ]
  },
  {
   "cell_type": "markdown",
   "id": "a86e943e-22f3-45e8-84e8-fd9c251b76a5",
   "metadata": {},
   "source": [
    "* Le cluster 0 est composé de Data scientists (~ 77.4%) et Lead data scientists (~22.6 %)\n",
    "* Le cluster 1 est composé principalement de Data architectes (~ 46.4 %) et Data engineers (51.3%)"
   ]
  },
  {
   "cell_type": "code",
   "execution_count": 35,
   "id": "08bf794d-33f0-4f64-9931-9f8d7c291589",
   "metadata": {},
   "outputs": [
    {
     "data": {
      "text/html": [
       "<div>\n",
       "<style scoped>\n",
       "    .dataframe tbody tr th:only-of-type {\n",
       "        vertical-align: middle;\n",
       "    }\n",
       "\n",
       "    .dataframe tbody tr th {\n",
       "        vertical-align: top;\n",
       "    }\n",
       "\n",
       "    .dataframe thead th {\n",
       "        text-align: right;\n",
       "    }\n",
       "</style>\n",
       "<table border=\"1\" class=\"dataframe\">\n",
       "  <thead>\n",
       "    <tr style=\"text-align: right;\">\n",
       "      <th></th>\n",
       "      <th>labels</th>\n",
       "      <th>variable</th>\n",
       "      <th>value</th>\n",
       "    </tr>\n",
       "  </thead>\n",
       "  <tbody>\n",
       "    <tr>\n",
       "      <th>0</th>\n",
       "      <td>0</td>\n",
       "      <td>Python</td>\n",
       "      <td>1</td>\n",
       "    </tr>\n",
       "    <tr>\n",
       "      <th>1</th>\n",
       "      <td>1</td>\n",
       "      <td>Python</td>\n",
       "      <td>1</td>\n",
       "    </tr>\n",
       "    <tr>\n",
       "      <th>2</th>\n",
       "      <td>0</td>\n",
       "      <td>Python</td>\n",
       "      <td>1</td>\n",
       "    </tr>\n",
       "    <tr>\n",
       "      <th>3</th>\n",
       "      <td>0</td>\n",
       "      <td>Python</td>\n",
       "      <td>1</td>\n",
       "    </tr>\n",
       "    <tr>\n",
       "      <th>4</th>\n",
       "      <td>0</td>\n",
       "      <td>Python</td>\n",
       "      <td>1</td>\n",
       "    </tr>\n",
       "  </tbody>\n",
       "</table>\n",
       "</div>"
      ],
      "text/plain": [
       "   labels variable  value\n",
       "0       0   Python      1\n",
       "1       1   Python      1\n",
       "2       0   Python      1\n",
       "3       0   Python      1\n",
       "4       0   Python      1"
      ]
     },
     "execution_count": 35,
     "metadata": {},
     "output_type": "execute_result"
    }
   ],
   "source": [
    "# Création d'une nouvelle base pour le plot des outils par cluster \n",
    "# Ajout des labels à la base ou les outils sont encodés\n",
    "get_tools=coded_data_all\n",
    "get_tools['labels']=labeleddata['labels']\n",
    "values_counts=get_tools[[\"Python\",\"R\",\t\"SQL\",\t\"Java\",\t\"Hadoop\",\"labels\"]]\n",
    "# transformer la base de sorte que les colonnes deviennent en ligne avec un ordre basé sur les labes\n",
    "melting=values_counts.melt(id_vars=[\"labels\"])\n",
    "#Conserver que les observations ou les outils ont été utilisé\n",
    "only_used_tools=melting.loc[melting['value']==1]\n",
    "only_used_tools.head()"
   ]
  },
  {
   "cell_type": "code",
   "execution_count": 36,
   "id": "41d20ac3-169c-4599-b3a5-b31d5bcc162b",
   "metadata": {},
   "outputs": [
    {
     "data": {
      "image/png": "[encoded data removed]",
      "text/plain": [
       "<Figure size 576x396 with 1 Axes>"
      ]
     },
     "metadata": {},
     "output_type": "display_data"
    }
   ],
   "source": [
    "tool_counts = (only_used_tools.groupby(['labels'])['variable']\n",
    "                     .value_counts(normalize=True)\n",
    "                     .rename('Pourcentage')\n",
    "                     .mul(100)\n",
    "                     .reset_index()\n",
    "                     .sort_values('variable'))\n",
    "sns.barplot(x=\"variable\", y=\"Pourcentage\", hue=\"labels\", data=tool_counts)\n",
    "plt.title(\"Pourcentage des outils utilisés dans chaque cluster\", size=18)\n",
    "plt.show()"
   ]
  },
  {
   "cell_type": "code",
   "execution_count": 37,
   "id": "62dd9455-18e5-4777-8592-1e356e858c5e",
   "metadata": {},
   "outputs": [
    {
     "data": {
      "text/html": [
       "<div>\n",
       "<style scoped>\n",
       "    .dataframe tbody tr th:only-of-type {\n",
       "        vertical-align: middle;\n",
       "    }\n",
       "\n",
       "    .dataframe tbody tr th {\n",
       "        vertical-align: top;\n",
       "    }\n",
       "\n",
       "    .dataframe thead th {\n",
       "        text-align: right;\n",
       "    }\n",
       "</style>\n",
       "<table border=\"1\" class=\"dataframe\">\n",
       "  <thead>\n",
       "    <tr style=\"text-align: right;\">\n",
       "      <th></th>\n",
       "      <th>labels</th>\n",
       "      <th>variable</th>\n",
       "      <th>Pourcentage</th>\n",
       "    </tr>\n",
       "  </thead>\n",
       "  <tbody>\n",
       "    <tr>\n",
       "      <th>3</th>\n",
       "      <td>0</td>\n",
       "      <td>Hadoop</td>\n",
       "      <td>3.702731</td>\n",
       "    </tr>\n",
       "    <tr>\n",
       "      <th>4</th>\n",
       "      <td>0</td>\n",
       "      <td>Java</td>\n",
       "      <td>2.065826</td>\n",
       "    </tr>\n",
       "    <tr>\n",
       "      <th>1</th>\n",
       "      <td>0</td>\n",
       "      <td>Python</td>\n",
       "      <td>37.666317</td>\n",
       "    </tr>\n",
       "    <tr>\n",
       "      <th>0</th>\n",
       "      <td>0</td>\n",
       "      <td>R</td>\n",
       "      <td>38.191527</td>\n",
       "    </tr>\n",
       "    <tr>\n",
       "      <th>2</th>\n",
       "      <td>0</td>\n",
       "      <td>SQL</td>\n",
       "      <td>18.373599</td>\n",
       "    </tr>\n",
       "    <tr>\n",
       "      <th>7</th>\n",
       "      <td>1</td>\n",
       "      <td>Hadoop</td>\n",
       "      <td>21.399632</td>\n",
       "    </tr>\n",
       "    <tr>\n",
       "      <th>6</th>\n",
       "      <td>1</td>\n",
       "      <td>Java</td>\n",
       "      <td>27.292818</td>\n",
       "    </tr>\n",
       "    <tr>\n",
       "      <th>5</th>\n",
       "      <td>1</td>\n",
       "      <td>Python</td>\n",
       "      <td>42.523020</td>\n",
       "    </tr>\n",
       "    <tr>\n",
       "      <th>8</th>\n",
       "      <td>1</td>\n",
       "      <td>SQL</td>\n",
       "      <td>8.784530</td>\n",
       "    </tr>\n",
       "  </tbody>\n",
       "</table>\n",
       "</div>"
      ],
      "text/plain": [
       "   labels variable  Pourcentage\n",
       "3       0   Hadoop     3.702731\n",
       "4       0     Java     2.065826\n",
       "1       0   Python    37.666317\n",
       "0       0        R    38.191527\n",
       "2       0      SQL    18.373599\n",
       "7       1   Hadoop    21.399632\n",
       "6       1     Java    27.292818\n",
       "5       1   Python    42.523020\n",
       "8       1      SQL     8.784530"
      ]
     },
     "execution_count": 37,
     "metadata": {},
     "output_type": "execute_result"
    }
   ],
   "source": [
    "tool_counts.sort_values('labels')"
   ]
  },
  {
   "cell_type": "markdown",
   "id": "16eeba4f-cc21-4728-a92e-19a61b0858bc",
   "metadata": {},
   "source": [
    "* Le cluster 0 (Data scientists et Lead Data scientists) contient majoritairement les outils Python, R et SQL.\n",
    "* Le cluster 1 (Data architectes et Data engineers) est composé par les outils Python, Java, Hadoop"
   ]
  },
  {
   "cell_type": "code",
   "execution_count": 38,
   "id": "d784402c-5510-4576-ab65-54ec867d32c7",
   "metadata": {},
   "outputs": [
    {
     "data": {
      "image/png": "[encoded data removed]",
      "text/plain": [
       "<Figure size 576x396 with 1 Axes>"
      ]
     },
     "metadata": {},
     "output_type": "display_data"
    }
   ],
   "source": [
    "Diplome_percent = (labeleddata.groupby(['labels'])['Diplome']\n",
    "                     .value_counts(normalize=True)\n",
    "                     .rename('Pourcentage')\n",
    "                     .mul(100)\n",
    "                     .reset_index()\n",
    "                     .sort_values('Diplome'))\n",
    "sns.barplot(x=\"Diplome\", y=\"Pourcentage\", hue=\"labels\", data=Diplome_percent)\n",
    "plt.title(\"Pourcentage des Diplomes dans chaque cluster\", size=18)\n",
    "plt.show()"
   ]
  },
  {
   "cell_type": "code",
   "execution_count": 39,
   "id": "7c298d5e-b6ed-42df-81f1-3ba86b9971ac",
   "metadata": {},
   "outputs": [
    {
     "data": {
      "text/html": [
       "<div>\n",
       "<style scoped>\n",
       "    .dataframe tbody tr th:only-of-type {\n",
       "        vertical-align: middle;\n",
       "    }\n",
       "\n",
       "    .dataframe tbody tr th {\n",
       "        vertical-align: top;\n",
       "    }\n",
       "\n",
       "    .dataframe thead th {\n",
       "        text-align: right;\n",
       "    }\n",
       "</style>\n",
       "<table border=\"1\" class=\"dataframe\">\n",
       "  <thead>\n",
       "    <tr style=\"text-align: right;\">\n",
       "      <th></th>\n",
       "      <th>labels</th>\n",
       "      <th>Diplome</th>\n",
       "      <th>Pourcentage</th>\n",
       "    </tr>\n",
       "  </thead>\n",
       "  <tbody>\n",
       "    <tr>\n",
       "      <th>2</th>\n",
       "      <td>0</td>\n",
       "      <td>Bachelor</td>\n",
       "      <td>12.464930</td>\n",
       "    </tr>\n",
       "    <tr>\n",
       "      <th>0</th>\n",
       "      <td>0</td>\n",
       "      <td>Master</td>\n",
       "      <td>50.981964</td>\n",
       "    </tr>\n",
       "    <tr>\n",
       "      <th>3</th>\n",
       "      <td>0</td>\n",
       "      <td>No diploma</td>\n",
       "      <td>2.004008</td>\n",
       "    </tr>\n",
       "    <tr>\n",
       "      <th>1</th>\n",
       "      <td>0</td>\n",
       "      <td>Phd</td>\n",
       "      <td>34.549098</td>\n",
       "    </tr>\n",
       "    <tr>\n",
       "      <th>6</th>\n",
       "      <td>1</td>\n",
       "      <td>Bachelor</td>\n",
       "      <td>16.816094</td>\n",
       "    </tr>\n",
       "    <tr>\n",
       "      <th>4</th>\n",
       "      <td>1</td>\n",
       "      <td>Master</td>\n",
       "      <td>52.853707</td>\n",
       "    </tr>\n",
       "    <tr>\n",
       "      <th>5</th>\n",
       "      <td>1</td>\n",
       "      <td>No diploma</td>\n",
       "      <td>18.740433</td>\n",
       "    </tr>\n",
       "    <tr>\n",
       "      <th>7</th>\n",
       "      <td>1</td>\n",
       "      <td>Phd</td>\n",
       "      <td>11.589766</td>\n",
       "    </tr>\n",
       "  </tbody>\n",
       "</table>\n",
       "</div>"
      ],
      "text/plain": [
       "   labels     Diplome  Pourcentage\n",
       "2       0    Bachelor    12.464930\n",
       "0       0      Master    50.981964\n",
       "3       0  No diploma     2.004008\n",
       "1       0         Phd    34.549098\n",
       "6       1    Bachelor    16.816094\n",
       "4       1      Master    52.853707\n",
       "5       1  No diploma    18.740433\n",
       "7       1         Phd    11.589766"
      ]
     },
     "execution_count": 39,
     "metadata": {},
     "output_type": "execute_result"
    }
   ],
   "source": [
    "Diplome_percent.sort_values('labels')"
   ]
  },
  {
   "cell_type": "markdown",
   "id": "afbe2ccc-2b9c-4e1e-a2ee-440d7963e512",
   "metadata": {},
   "source": [
    "* Le cluster 0 est caractérisé par les diplomés en Master et Phd.\n",
    "* Le cluster 1 est majoritairement occupé par le niveau master, les autres niveaux d'études sont comparables.\n"
   ]
  },
  {
   "cell_type": "code",
   "execution_count": 41,
   "id": "59e29dbf-0217-470f-b4c8-9b3ff74e0cc8",
   "metadata": {},
   "outputs": [
    {
     "data": {
      "image/png": "[encoded data removed]",
      "text/plain": [
       "<Figure size 576x396 with 1 Axes>"
      ]
     },
     "metadata": {},
     "output_type": "display_data"
    }
   ],
   "source": [
    "sns.histplot(binwidth=1,y=\"Exp_label\", hue=\"labels\", data=labeleddata, stat=\"percent\", multiple=\"stack\")\n",
    "plt.title(\"Pourcentage des expertises par cluster\")\n",
    "plt.show()\n"
   ]
  },
  {
   "cell_type": "markdown",
   "id": "f5ad1c9a-7e00-46aa-9d9f-1bca9f6bdf47",
   "metadata": {},
   "source": [
    "* Le cluster 0 est majoritairement composé par les niveaux débutants et confirmés.\n",
    "* Le cluster 1 est majoritairement composé par les niveaux débutants et confirmés.\n",
    "* Les niveaux avancé et expert existent plus dans le cluster des data engineers."
   ]
  },
  {
   "cell_type": "markdown",
   "id": "b0d4df09-f923-4cc6-ae33-bec6d3c9597d",
   "metadata": {},
   "source": [
    "### Conclusions : \n",
    "* Le cluster 0 correspond au profil des data scientists tant dis que le cluster 1 est celui des data engineers/arhitectes.\n",
    "* Les outils utilisés par les data scientists sont R, Python et SQL alors que les data engineers utilisent plus Python ,Hadoop et Java.\n",
    "* Les profils avancés et experts dans les métiers data (data scientists et engineers) sont rares.\n",
    "* Les recruteurs en des data engineering sont plus exigeant par rapport à un poste de data scientists. On demande plus d'années d'expérience."
   ]
  },
  {
   "cell_type": "markdown",
   "id": "8e92c397-87df-468e-9588-36e0a53a16ef",
   "metadata": {},
   "source": [
    "## Prédiction des métiers manquants"
   ]
  },
  {
   "cell_type": "markdown",
   "id": "caa54234-515c-428d-8c2e-ac74089f64ec",
   "metadata": {},
   "source": [
    "8) Réaliser la prédiction des métiers manquants dans la base de données par\n",
    "l'algorithme de votre choix"
   ]
  },
  {
   "cell_type": "code",
   "execution_count": 42,
   "id": "774c78c0-444f-476c-aff2-0384a8c1bb3f",
   "metadata": {},
   "outputs": [
    {
     "data": {
      "text/html": [
       "<div>\n",
       "<style scoped>\n",
       "    .dataframe tbody tr th:only-of-type {\n",
       "        vertical-align: middle;\n",
       "    }\n",
       "\n",
       "    .dataframe tbody tr th {\n",
       "        vertical-align: top;\n",
       "    }\n",
       "\n",
       "    .dataframe thead th {\n",
       "        text-align: right;\n",
       "    }\n",
       "</style>\n",
       "<table border=\"1\" class=\"dataframe\">\n",
       "  <thead>\n",
       "    <tr style=\"text-align: right;\">\n",
       "      <th></th>\n",
       "      <th>Experience</th>\n",
       "      <th>Diplome_Bachelor</th>\n",
       "      <th>Diplome_Master</th>\n",
       "      <th>Diplome_No diploma</th>\n",
       "      <th>Diplome_Phd</th>\n",
       "      <th>Python</th>\n",
       "      <th>R</th>\n",
       "      <th>SQL</th>\n",
       "      <th>Java</th>\n",
       "      <th>Hadoop</th>\n",
       "    </tr>\n",
       "  </thead>\n",
       "  <tbody>\n",
       "    <tr>\n",
       "      <th>0</th>\n",
       "      <td>1.0</td>\n",
       "      <td>0</td>\n",
       "      <td>1</td>\n",
       "      <td>0</td>\n",
       "      <td>0</td>\n",
       "      <td>1</td>\n",
       "      <td>0</td>\n",
       "      <td>0</td>\n",
       "      <td>0</td>\n",
       "      <td>0</td>\n",
       "    </tr>\n",
       "    <tr>\n",
       "      <th>1</th>\n",
       "      <td>3.0</td>\n",
       "      <td>0</td>\n",
       "      <td>1</td>\n",
       "      <td>0</td>\n",
       "      <td>0</td>\n",
       "      <td>1</td>\n",
       "      <td>0</td>\n",
       "      <td>0</td>\n",
       "      <td>1</td>\n",
       "      <td>0</td>\n",
       "    </tr>\n",
       "    <tr>\n",
       "      <th>2</th>\n",
       "      <td>3.0</td>\n",
       "      <td>0</td>\n",
       "      <td>1</td>\n",
       "      <td>0</td>\n",
       "      <td>0</td>\n",
       "      <td>1</td>\n",
       "      <td>1</td>\n",
       "      <td>1</td>\n",
       "      <td>0</td>\n",
       "      <td>0</td>\n",
       "    </tr>\n",
       "    <tr>\n",
       "      <th>3</th>\n",
       "      <td>1.5</td>\n",
       "      <td>0</td>\n",
       "      <td>1</td>\n",
       "      <td>0</td>\n",
       "      <td>0</td>\n",
       "      <td>1</td>\n",
       "      <td>0</td>\n",
       "      <td>0</td>\n",
       "      <td>1</td>\n",
       "      <td>0</td>\n",
       "    </tr>\n",
       "    <tr>\n",
       "      <th>4</th>\n",
       "      <td>2.0</td>\n",
       "      <td>0</td>\n",
       "      <td>0</td>\n",
       "      <td>0</td>\n",
       "      <td>1</td>\n",
       "      <td>1</td>\n",
       "      <td>0</td>\n",
       "      <td>0</td>\n",
       "      <td>0</td>\n",
       "      <td>0</td>\n",
       "    </tr>\n",
       "  </tbody>\n",
       "</table>\n",
       "</div>"
      ],
      "text/plain": [
       "   Experience  Diplome_Bachelor  Diplome_Master  Diplome_No diploma  \\\n",
       "0         1.0                 0               1                   0   \n",
       "1         3.0                 0               1                   0   \n",
       "2         3.0                 0               1                   0   \n",
       "3         1.5                 0               1                   0   \n",
       "4         2.0                 0               0                   0   \n",
       "\n",
       "   Diplome_Phd  Python  R  SQL  Java  Hadoop  \n",
       "0            0       1  0    0     0       0  \n",
       "1            0       1  0    0     1       0  \n",
       "2            0       1  1    1     0       0  \n",
       "3            0       1  0    0     1       0  \n",
       "4            1       1  0    0     0       0  "
      ]
     },
     "execution_count": 42,
     "metadata": {},
     "output_type": "execute_result"
    }
   ],
   "source": [
    "# Supression de la variable métier de la base encodée\n",
    "drop_metier=coded_data_all.drop(columns=[\"Metier_Data architecte\",\n",
    "                                         \"Metier_Data engineer\",\t\"Metier_Data scientist\",\n",
    "                                         \"Metier_Lead data scientist\",\"labels\"],axis=1,inplace=False)\n",
    "drop_metier.head()"
   ]
  },
  {
   "cell_type": "code",
   "execution_count": 43,
   "id": "82dea14a-760f-47eb-ab59-a3ba58daf826",
   "metadata": {},
   "outputs": [
    {
     "data": {
      "text/plain": [
       "array([2, 0, 3, ..., 2, 2, 2])"
      ]
     },
     "execution_count": 43,
     "metadata": {},
     "output_type": "execute_result"
    }
   ],
   "source": [
    "# Déscritiser la varibale cible Métier \n",
    "label_encoder = preprocessing.LabelEncoder()\n",
    "X = np.array(drop_metier)\n",
    "Y = label_encoder.fit_transform(c_data.loc[c_data.loc[:,'Metier'].isna()==False,'Metier'])\n",
    "Y"
   ]
  },
  {
   "cell_type": "code",
   "execution_count": 44,
   "id": "91f16471-e62e-4173-a695-dd49c6e05a66",
   "metadata": {},
   "outputs": [],
   "source": [
    "#Splitting de la base en train et test \n",
    "from sklearn import model_selection\n",
    "X_train, X_test, Y_train, Y_test = model_selection.train_test_split(X, Y, test_size=.30,\n",
    "                                                                    shuffle=True,\n",
    "                                                                    random_state = random.seed(601))"
   ]
  },
  {
   "cell_type": "code",
   "execution_count": 45,
   "id": "0c339cef-8bdd-4baa-8806-4495375503c8",
   "metadata": {},
   "outputs": [
    {
     "name": "stdout",
     "output_type": "stream",
     "text": [
      "KNN is 69.710701 percent accurate\n",
      "Decision Trees is 71.767166 percent accurate\n",
      "Random Forests is 71.383757 percent accurate\n"
     ]
    }
   ],
   "source": [
    "# Modèles à essayer pour trouver le plus performant\n",
    "\n",
    "# Fixer la graine\n",
    "random.seed (601)\n",
    "KNN = KNeighborsClassifier()\n",
    "DT = DecisionTreeClassifier(random_state = random.seed(601))\n",
    "RF = RandomForestClassifier(random_state = random.seed(601))\n",
    "\n",
    "# Fitting des modèles\n",
    "KNN_fit = KNN.fit(X_train, Y_train)\n",
    "DT_fit = DT.fit(X_train, Y_train)\n",
    "RF_fit = RF.fit(X_train, Y_train)\n",
    "\n",
    "#Prédiction \n",
    "KNN_pred = KNN_fit.predict(X_test)\n",
    "DT_pred = DT_fit.predict(X_test)\n",
    "RF_pred = RF_fit.predict(X_test)\n",
    "\n",
    "# Résultats de l'accuracy pour chaque modèle\n",
    "\n",
    "print(\"KNN is %f percent accurate\" % (accuracy_score(KNN_pred, Y_test)*100))\n",
    "print(\"Decision Trees is %f percent accurate\" % (accuracy_score(DT_pred, Y_test)*100))\n",
    "print(\"Random Forests is %f percent accurate\" % (accuracy_score(RF_pred, Y_test)*100))"
   ]
  },
  {
   "cell_type": "markdown",
   "id": "0ccb04fc-cded-4564-96c4-15d94e96496c",
   "metadata": {},
   "source": [
    "* 8.a. Justifier la performance de votre algorithme grâce à une métrique."
   ]
  },
  {
   "cell_type": "code",
   "execution_count": 46,
   "id": "0e49f3a3-0037-4b51-a03b-f66003c49912",
   "metadata": {},
   "outputs": [
    {
     "name": "stdout",
     "output_type": "stream",
     "text": [
      "le modèle le plus performant  est l'arbre de décision avec :  71.77  % d'accuracy\n"
     ]
    }
   ],
   "source": [
    "# L'accuracy = les prédictions correctes / le total des prédictions (=TP + TN /TP+TN + FP+ FN)\n",
    "print (\"le modèle le plus performant  est l'arbre de décision avec : \",\n",
    "       round(accuracy_score(DT_pred, Y_test)*100,2),\" % d'accuracy\" )"
   ]
  },
  {
   "cell_type": "code",
   "execution_count": 48,
   "id": "bd0a0239-bcb6-4043-8aee-8f723057032d",
   "metadata": {},
   "outputs": [
    {
     "data": {
      "image/png": "[encoded data removed]",
      "text/plain": [
       "<Figure size 576x396 with 2 Axes>"
      ]
     },
     "metadata": {},
     "output_type": "display_data"
    },
    {
     "data": {
      "image/png": "[encoded data removed]",
      "text/plain": [
       "<Figure size 576x396 with 2 Axes>"
      ]
     },
     "metadata": {},
     "output_type": "display_data"
    }
   ],
   "source": [
    "# Plot des matrices de confusion normalisées et non normalisées\n",
    "titles_options = [\n",
    "    (\"Confusion matrix, without normalization\", None),\n",
    "    (\"Normalized confusion matrix\", \"true\"),\n",
    "]\n",
    "\n",
    "class_names=['Data architecte','Data engineer','Data scientist','Lead data scientist']\n",
    "for title, normalize in titles_options:\n",
    "    disp = ConfusionMatrixDisplay.from_estimator(\n",
    "        DT,\n",
    "        X_test,\n",
    "        Y_test,\n",
    "        display_labels=class_names,\n",
    "        cmap=plt.cm.Blues,\n",
    "        normalize=normalize,\n",
    "    )\n",
    "    disp.ax_.set_title(title)\n",
    "\n",
    "plt.show()"
   ]
  },
  {
   "cell_type": "markdown",
   "id": "69b15ef1-eae8-44c5-b3a7-f8c8ba4ff3a1",
   "metadata": {},
   "source": [
    "* 8.b. Interpréter votre résultat."
   ]
  },
  {
   "cell_type": "markdown",
   "id": "49771538-5dee-4ee4-a30e-0a9675228cf3",
   "metadata": {},
   "source": [
    "* Le modèle est capable de prédire correctement les classes des data engineers et data architectes et data scientists(72% , 66% et 82% respectivement)\n",
    "* Le modèle peut correctement détecter les Lead data scientists à 47% seulement , il confond souvent les Leads en des data scientists.\n"
   ]
  },
  {
   "cell_type": "markdown",
   "id": "498d0ec9-fdba-4854-85e5-674628458718",
   "metadata": {},
   "source": [
    "#### Prédiction des métiers manquants"
   ]
  },
  {
   "cell_type": "code",
   "execution_count": 46,
   "id": "5c2c1ea7-745c-4d5a-aef1-32b4cf1b1ef2",
   "metadata": {},
   "outputs": [
    {
     "data": {
      "text/html": [
       "<div>\n",
       "<style scoped>\n",
       "    .dataframe tbody tr th:only-of-type {\n",
       "        vertical-align: middle;\n",
       "    }\n",
       "\n",
       "    .dataframe tbody tr th {\n",
       "        vertical-align: top;\n",
       "    }\n",
       "\n",
       "    .dataframe thead th {\n",
       "        text-align: right;\n",
       "    }\n",
       "</style>\n",
       "<table border=\"1\" class=\"dataframe\">\n",
       "  <thead>\n",
       "    <tr style=\"text-align: right;\">\n",
       "      <th></th>\n",
       "      <th>Outils</th>\n",
       "    </tr>\n",
       "  </thead>\n",
       "  <tbody>\n",
       "    <tr>\n",
       "      <th>346</th>\n",
       "      <td>Python</td>\n",
       "    </tr>\n",
       "    <tr>\n",
       "      <th>346</th>\n",
       "      <td>Spark</td>\n",
       "    </tr>\n",
       "    <tr>\n",
       "      <th>346</th>\n",
       "      <td>GNU</td>\n",
       "    </tr>\n",
       "    <tr>\n",
       "      <th>346</th>\n",
       "      <td>Linux</td>\n",
       "    </tr>\n",
       "    <tr>\n",
       "      <th>2058</th>\n",
       "      <td>VBA</td>\n",
       "    </tr>\n",
       "    <tr>\n",
       "      <th>...</th>\n",
       "      <td>...</td>\n",
       "    </tr>\n",
       "    <tr>\n",
       "      <th>9490</th>\n",
       "      <td>Python</td>\n",
       "    </tr>\n",
       "    <tr>\n",
       "      <th>9490</th>\n",
       "      <td>Spark</td>\n",
       "    </tr>\n",
       "    <tr>\n",
       "      <th>9490</th>\n",
       "      <td>Pycharm</td>\n",
       "    </tr>\n",
       "    <tr>\n",
       "      <th>9490</th>\n",
       "      <td>SAS</td>\n",
       "    </tr>\n",
       "    <tr>\n",
       "      <th>9490</th>\n",
       "      <td>SQL</td>\n",
       "    </tr>\n",
       "  </tbody>\n",
       "</table>\n",
       "<p>97 rows × 1 columns</p>\n",
       "</div>"
      ],
      "text/plain": [
       "       Outils\n",
       "346    Python\n",
       "346     Spark\n",
       "346       GNU\n",
       "346     Linux\n",
       "2058      VBA\n",
       "...       ...\n",
       "9490   Python\n",
       "9490    Spark\n",
       "9490  Pycharm\n",
       "9490      SAS\n",
       "9490      SQL\n",
       "\n",
       "[97 rows x 1 columns]"
      ]
     },
     "execution_count": 46,
     "metadata": {},
     "output_type": "execute_result"
    }
   ],
   "source": [
    "# subset de la base ou les métiers sont manquants\n",
    "data_na_met=c_data[c_data.loc[:,'Metier'].isna()==True]\n",
    "#Garder que les variables dont on aura besoin pour la prédiction\n",
    "data_na_met_no=data_na_met[[\"Experience\",\"Diplome\",\"Technologies\"]]\n",
    "# Exploser la variable Technilogies\n",
    "outils_na_met_no= data_na_met_no.Technologies.apply(lambda x : x.split(\"/\")).explode()\n",
    "outils_na_met_no=pd.DataFrame(outils_na_met_no)\n",
    "outils_na_met_no=outils_na_met_no.rename(columns={\"Technologies\": \"Outils\"})\n",
    "outils_na_met_no"
   ]
  },
  {
   "cell_type": "code",
   "execution_count": 47,
   "id": "2c6506a7-4e44-47e2-9cd3-bc556dd7b448",
   "metadata": {},
   "outputs": [
    {
     "data": {
      "text/html": [
       "<div>\n",
       "<style scoped>\n",
       "    .dataframe tbody tr th:only-of-type {\n",
       "        vertical-align: middle;\n",
       "    }\n",
       "\n",
       "    .dataframe tbody tr th {\n",
       "        vertical-align: top;\n",
       "    }\n",
       "\n",
       "    .dataframe thead th {\n",
       "        text-align: right;\n",
       "    }\n",
       "</style>\n",
       "<table border=\"1\" class=\"dataframe\">\n",
       "  <thead>\n",
       "    <tr style=\"text-align: right;\">\n",
       "      <th></th>\n",
       "      <th>index</th>\n",
       "      <th>Python</th>\n",
       "      <th>R</th>\n",
       "      <th>SQL</th>\n",
       "      <th>Java</th>\n",
       "      <th>Hadoop</th>\n",
       "    </tr>\n",
       "  </thead>\n",
       "  <tbody>\n",
       "    <tr>\n",
       "      <th>0</th>\n",
       "      <td>346</td>\n",
       "      <td>1</td>\n",
       "      <td>0</td>\n",
       "      <td>0</td>\n",
       "      <td>0</td>\n",
       "      <td>0</td>\n",
       "    </tr>\n",
       "    <tr>\n",
       "      <th>1</th>\n",
       "      <td>2058</td>\n",
       "      <td>1</td>\n",
       "      <td>1</td>\n",
       "      <td>0</td>\n",
       "      <td>0</td>\n",
       "      <td>0</td>\n",
       "    </tr>\n",
       "    <tr>\n",
       "      <th>2</th>\n",
       "      <td>2670</td>\n",
       "      <td>1</td>\n",
       "      <td>1</td>\n",
       "      <td>0</td>\n",
       "      <td>1</td>\n",
       "      <td>0</td>\n",
       "    </tr>\n",
       "    <tr>\n",
       "      <th>3</th>\n",
       "      <td>2899</td>\n",
       "      <td>1</td>\n",
       "      <td>1</td>\n",
       "      <td>0</td>\n",
       "      <td>0</td>\n",
       "      <td>0</td>\n",
       "    </tr>\n",
       "    <tr>\n",
       "      <th>4</th>\n",
       "      <td>3346</td>\n",
       "      <td>0</td>\n",
       "      <td>0</td>\n",
       "      <td>0</td>\n",
       "      <td>0</td>\n",
       "      <td>0</td>\n",
       "    </tr>\n",
       "  </tbody>\n",
       "</table>\n",
       "</div>"
      ],
      "text/plain": [
       "   index  Python  R  SQL  Java  Hadoop\n",
       "0    346       1  0    0     0       0\n",
       "1   2058       1  1    0     0       0\n",
       "2   2670       1  1    0     1       0\n",
       "3   2899       1  1    0     0       0\n",
       "4   3346       0  0    0     0       0"
      ]
     },
     "execution_count": 47,
     "metadata": {},
     "output_type": "execute_result"
    }
   ],
   "source": [
    "# One hot encoding des outils\n",
    "# Appliquer le One hot encoding \n",
    "outils_hot_enc_na_met = pd.get_dummies(outils_na_met_no[\"Outils\"], columns= [\"Outils\"])\n",
    "# Faire un check sur le nom des colonnes \n",
    "outils_hot_enc_na_met.columns\n",
    "# Inclure l'index dans la base pour faire l'aggrégation plus tard\n",
    "outils_hot_enc_na_met=outils_hot_enc_na_met.reset_index()\n",
    "# Sommer les valeurs ayant le meme index pour obtenir des lignes uniques \n",
    "outils_hot_enc_na_met=outils_hot_enc_na_met.groupby('index').sum().reset_index()\n",
    "\n",
    "#outils_hot_enc=outils_hot_enc.drop(['index'], axis=1)\n",
    "# Choisir que les 5 premiers outils les plus utilisés \n",
    "outils_hot_enc_na_met=outils_hot_enc_na_met[['index','Python','R','SQL','Java','Hadoop']] \n",
    "\n",
    "outils_hot_enc_na_met.head()"
   ]
  },
  {
   "cell_type": "code",
   "execution_count": 48,
   "id": "dbd9cd8f-860a-44c0-9dce-d0fa82b8a24c",
   "metadata": {},
   "outputs": [
    {
     "data": {
      "text/html": [
       "<div>\n",
       "<style scoped>\n",
       "    .dataframe tbody tr th:only-of-type {\n",
       "        vertical-align: middle;\n",
       "    }\n",
       "\n",
       "    .dataframe tbody tr th {\n",
       "        vertical-align: top;\n",
       "    }\n",
       "\n",
       "    .dataframe thead th {\n",
       "        text-align: right;\n",
       "    }\n",
       "</style>\n",
       "<table border=\"1\" class=\"dataframe\">\n",
       "  <thead>\n",
       "    <tr style=\"text-align: right;\">\n",
       "      <th></th>\n",
       "      <th>index</th>\n",
       "      <th>Experience</th>\n",
       "      <th>Diplome_Bachelor</th>\n",
       "      <th>Diplome_Master</th>\n",
       "      <th>Diplome_No diploma</th>\n",
       "      <th>Diplome_Phd</th>\n",
       "    </tr>\n",
       "  </thead>\n",
       "  <tbody>\n",
       "    <tr>\n",
       "      <th>0</th>\n",
       "      <td>346</td>\n",
       "      <td>2.5</td>\n",
       "      <td>0</td>\n",
       "      <td>0</td>\n",
       "      <td>1</td>\n",
       "      <td>0</td>\n",
       "    </tr>\n",
       "    <tr>\n",
       "      <th>1</th>\n",
       "      <td>2058</td>\n",
       "      <td>15.0</td>\n",
       "      <td>0</td>\n",
       "      <td>1</td>\n",
       "      <td>0</td>\n",
       "      <td>0</td>\n",
       "    </tr>\n",
       "    <tr>\n",
       "      <th>2</th>\n",
       "      <td>2670</td>\n",
       "      <td>1.5</td>\n",
       "      <td>0</td>\n",
       "      <td>1</td>\n",
       "      <td>0</td>\n",
       "      <td>0</td>\n",
       "    </tr>\n",
       "    <tr>\n",
       "      <th>3</th>\n",
       "      <td>2899</td>\n",
       "      <td>0.0</td>\n",
       "      <td>0</td>\n",
       "      <td>0</td>\n",
       "      <td>0</td>\n",
       "      <td>1</td>\n",
       "    </tr>\n",
       "    <tr>\n",
       "      <th>4</th>\n",
       "      <td>3346</td>\n",
       "      <td>7.0</td>\n",
       "      <td>0</td>\n",
       "      <td>1</td>\n",
       "      <td>0</td>\n",
       "      <td>0</td>\n",
       "    </tr>\n",
       "  </tbody>\n",
       "</table>\n",
       "</div>"
      ],
      "text/plain": [
       "   index  Experience  Diplome_Bachelor  Diplome_Master  Diplome_No diploma  \\\n",
       "0    346         2.5                 0               0                   1   \n",
       "1   2058        15.0                 0               1                   0   \n",
       "2   2670         1.5                 0               1                   0   \n",
       "3   2899         0.0                 0               0                   0   \n",
       "4   3346         7.0                 0               1                   0   \n",
       "\n",
       "   Diplome_Phd  \n",
       "0            0  \n",
       "1            0  \n",
       "2            0  \n",
       "3            1  \n",
       "4            0  "
      ]
     },
     "execution_count": 48,
     "metadata": {},
     "output_type": "execute_result"
    }
   ],
   "source": [
    "# Ajouter à la variable experience les variables encodés de métier et diplome, les variables entreprises\n",
    "#et ville ne me semblent pas significatifs\n",
    "#c_data_coded = df_no_na['Experience']\n",
    "c_data_coded_na_met = pd.get_dummies(data_na_met[[\"Experience\", \"Diplome\"]], columns= [ \"Diplome\"])\n",
    "c_data_coded_na_met=c_data_coded_na_met.reset_index()\n",
    "c_data_coded_na_met.head()"
   ]
  },
  {
   "cell_type": "code",
   "execution_count": 49,
   "id": "0bf53724-c805-42d6-9c3d-515d6ec8544f",
   "metadata": {},
   "outputs": [
    {
     "data": {
      "text/html": [
       "<div>\n",
       "<style scoped>\n",
       "    .dataframe tbody tr th:only-of-type {\n",
       "        vertical-align: middle;\n",
       "    }\n",
       "\n",
       "    .dataframe tbody tr th {\n",
       "        vertical-align: top;\n",
       "    }\n",
       "\n",
       "    .dataframe thead th {\n",
       "        text-align: right;\n",
       "    }\n",
       "</style>\n",
       "<table border=\"1\" class=\"dataframe\">\n",
       "  <thead>\n",
       "    <tr style=\"text-align: right;\">\n",
       "      <th></th>\n",
       "      <th>Experience</th>\n",
       "      <th>Diplome_Bachelor</th>\n",
       "      <th>Diplome_Master</th>\n",
       "      <th>Diplome_No diploma</th>\n",
       "      <th>Diplome_Phd</th>\n",
       "      <th>Python</th>\n",
       "      <th>R</th>\n",
       "      <th>SQL</th>\n",
       "      <th>Java</th>\n",
       "      <th>Hadoop</th>\n",
       "    </tr>\n",
       "  </thead>\n",
       "  <tbody>\n",
       "    <tr>\n",
       "      <th>0</th>\n",
       "      <td>2.5</td>\n",
       "      <td>0</td>\n",
       "      <td>0</td>\n",
       "      <td>1</td>\n",
       "      <td>0</td>\n",
       "      <td>1</td>\n",
       "      <td>0</td>\n",
       "      <td>0</td>\n",
       "      <td>0</td>\n",
       "      <td>0</td>\n",
       "    </tr>\n",
       "    <tr>\n",
       "      <th>1</th>\n",
       "      <td>15.0</td>\n",
       "      <td>0</td>\n",
       "      <td>1</td>\n",
       "      <td>0</td>\n",
       "      <td>0</td>\n",
       "      <td>1</td>\n",
       "      <td>1</td>\n",
       "      <td>0</td>\n",
       "      <td>0</td>\n",
       "      <td>0</td>\n",
       "    </tr>\n",
       "    <tr>\n",
       "      <th>2</th>\n",
       "      <td>1.5</td>\n",
       "      <td>0</td>\n",
       "      <td>1</td>\n",
       "      <td>0</td>\n",
       "      <td>0</td>\n",
       "      <td>1</td>\n",
       "      <td>1</td>\n",
       "      <td>0</td>\n",
       "      <td>1</td>\n",
       "      <td>0</td>\n",
       "    </tr>\n",
       "    <tr>\n",
       "      <th>3</th>\n",
       "      <td>0.0</td>\n",
       "      <td>0</td>\n",
       "      <td>0</td>\n",
       "      <td>0</td>\n",
       "      <td>1</td>\n",
       "      <td>1</td>\n",
       "      <td>1</td>\n",
       "      <td>0</td>\n",
       "      <td>0</td>\n",
       "      <td>0</td>\n",
       "    </tr>\n",
       "    <tr>\n",
       "      <th>4</th>\n",
       "      <td>7.0</td>\n",
       "      <td>0</td>\n",
       "      <td>1</td>\n",
       "      <td>0</td>\n",
       "      <td>0</td>\n",
       "      <td>0</td>\n",
       "      <td>0</td>\n",
       "      <td>0</td>\n",
       "      <td>0</td>\n",
       "      <td>0</td>\n",
       "    </tr>\n",
       "  </tbody>\n",
       "</table>\n",
       "</div>"
      ],
      "text/plain": [
       "   Experience  Diplome_Bachelor  Diplome_Master  Diplome_No diploma  \\\n",
       "0         2.5                 0               0                   1   \n",
       "1        15.0                 0               1                   0   \n",
       "2         1.5                 0               1                   0   \n",
       "3         0.0                 0               0                   0   \n",
       "4         7.0                 0               1                   0   \n",
       "\n",
       "   Diplome_Phd  Python  R  SQL  Java  Hadoop  \n",
       "0            0       1  0    0     0       0  \n",
       "1            0       1  1    0     0       0  \n",
       "2            0       1  1    0     1       0  \n",
       "3            1       1  1    0     0       0  \n",
       "4            0       0  0    0     0       0  "
      ]
     },
     "execution_count": 49,
     "metadata": {},
     "output_type": "execute_result"
    }
   ],
   "source": [
    "# Union des bases se données\n",
    "coded_data_all_na_met = pd.merge(c_data_coded_na_met, outils_hot_enc_na_met, on='index', how='inner')\n",
    "coded_data_all_na_met=coded_data_all_na_met.drop(columns=\"index\",axis=1)\n",
    "coded_data_all_na_met.head()"
   ]
  },
  {
   "cell_type": "code",
   "execution_count": 50,
   "id": "931c3d62-7ae2-4504-bba1-d8c41dd54586",
   "metadata": {},
   "outputs": [],
   "source": [
    "# Standardiser la base de données \n",
    "scaler = MinMaxScaler() # Permet de standardiser la base de données pour obtenir des nouvelles \n",
    "#valeurs avec une moyenne nulle et un écart-type de 1. Cette étape est importante pour s'assurer \n",
    "#qu'une variable n'est pas interprétée comme étant plus importante que l'autre.\n",
    "scaled_features = scaler.fit_transform(coded_data_all_na_met) #appliquer la  standardisation\n",
    "#scaled_features # Résultats "
   ]
  },
  {
   "cell_type": "code",
   "execution_count": 51,
   "id": "1a551fe7-e3d4-48ab-90a2-f8475a283c9d",
   "metadata": {},
   "outputs": [
    {
     "data": {
      "text/plain": [
       "array([1, 2, 2, 2, 1, 2, 2, 2, 1, 2, 0, 0, 0, 2, 1, 2, 0, 2, 2])"
      ]
     },
     "execution_count": 51,
     "metadata": {},
     "output_type": "execute_result"
    }
   ],
   "source": [
    "#Prédicition les métiers manquants par notre modéle\n",
    "#The best model in term of accuracy is Decision trees ",
    "model = DT_fit\n",
    "predicted_met=model.predict(scaled_features)\n",
    "predicted_met"
   ]
  },
  {
   "cell_type": "code",
   "execution_count": 52,
   "id": "eb90f383-f4c5-42fa-87c5-0dc4ab673217",
   "metadata": {},
   "outputs": [
    {
     "data": {
      "text/plain": [
       "array([1, 2, 2, 2, 1, 2, 2, 2, 1, 2, 0, 0, 0, 2, 1, 2, 0, 2, 2])"
      ]
     },
     "execution_count": 52,
     "metadata": {},
     "output_type": "execute_result"
    }
   ],
   "source": [
    "predicted_met"
   ]
  },
  {
   "cell_type": "code",
   "execution_count": 53,
   "id": "45739ea6-4a79-4c04-a3c1-8731c27a5be4",
   "metadata": {},
   "outputs": [
    {
     "name": "stderr",
     "output_type": "stream",
     "text": [
      "/opt/conda/lib/python3.7/site-packages/ipykernel_launcher.py:2: SettingWithCopyWarning: \n",
      "A value is trying to be set on a copy of a slice from a DataFrame.\n",
      "Try using .loc[row_indexer,col_indexer] = value instead\n",
      "\n",
      "See the caveats in the documentation: https://pandas.pydata.org/pandas-docs/stable/user_guide/indexing.html#returning-a-view-versus-a-copy\n",
      "  \n"
     ]
    },
    {
     "data": {
      "text/plain": [
       "0"
      ]
     },
     "execution_count": 53,
     "metadata": {},
     "output_type": "execute_result"
    }
   ],
   "source": [
    "#Remplissage des valeurs manquantes du métier par leurs valeurs prédites \n",
    "data_na_met[\"Metier\"]=label_encoder.inverse_transform(predicted_met)\n",
    "data_na_met['Metier'].isna().sum()\n"
   ]
  },
  {
   "cell_type": "code",
   "execution_count": 54,
   "id": "0c6359a1-4479-41c1-b9f3-62fa292ea71a",
   "metadata": {},
   "outputs": [
    {
     "name": "stdout",
     "output_type": "stream",
     "text": [
      "Le résultat de la prediction des métiers manquants est obtenu à l'aide d'une classification  des données avec le model de k- plus proches voisins:\n",
      "\n"
     ]
    },
    {
     "data": {
      "text/html": [
       "<div>\n",
       "<style scoped>\n",
       "    .dataframe tbody tr th:only-of-type {\n",
       "        vertical-align: middle;\n",
       "    }\n",
       "\n",
       "    .dataframe tbody tr th {\n",
       "        vertical-align: top;\n",
       "    }\n",
       "\n",
       "    .dataframe thead th {\n",
       "        text-align: right;\n",
       "    }\n",
       "</style>\n",
       "<table border=\"1\" class=\"dataframe\">\n",
       "  <thead>\n",
       "    <tr style=\"text-align: right;\">\n",
       "      <th></th>\n",
       "      <th>Entreprise</th>\n",
       "      <th>Metier</th>\n",
       "      <th>Technologies</th>\n",
       "      <th>Diplome</th>\n",
       "      <th>Experience</th>\n",
       "      <th>Ville</th>\n",
       "      <th>Exp_label</th>\n",
       "    </tr>\n",
       "  </thead>\n",
       "  <tbody>\n",
       "    <tr>\n",
       "      <th>346</th>\n",
       "      <td>Jacobs</td>\n",
       "      <td>Data engineer</td>\n",
       "      <td>Python/Spark/GNU/Linux</td>\n",
       "      <td>No diploma</td>\n",
       "      <td>2.5</td>\n",
       "      <td>Paris</td>\n",
       "      <td>Confirmé</td>\n",
       "    </tr>\n",
       "    <tr>\n",
       "      <th>2058</th>\n",
       "      <td>Ball Aerospace</td>\n",
       "      <td>Data scientist</td>\n",
       "      <td>VBA/Python/Excel/R</td>\n",
       "      <td>Master</td>\n",
       "      <td>15.0</td>\n",
       "      <td>Lyon</td>\n",
       "      <td>Expert</td>\n",
       "    </tr>\n",
       "    <tr>\n",
       "      <th>2670</th>\n",
       "      <td>eHire, LLC</td>\n",
       "      <td>Data scientist</td>\n",
       "      <td>Java/C/C++/R/Python</td>\n",
       "      <td>Master</td>\n",
       "      <td>1.5</td>\n",
       "      <td>Toulouse</td>\n",
       "      <td>Debutant</td>\n",
       "    </tr>\n",
       "    <tr>\n",
       "      <th>2899</th>\n",
       "      <td>Norfolk Southern Corp</td>\n",
       "      <td>Data scientist</td>\n",
       "      <td>Python/Tensorflow/scikit-learn/Deep learning/R</td>\n",
       "      <td>Phd</td>\n",
       "      <td>0.0</td>\n",
       "      <td>Grenoble</td>\n",
       "      <td>Debutant</td>\n",
       "    </tr>\n",
       "    <tr>\n",
       "      <th>3346</th>\n",
       "      <td>J.E. Ranta Associates</td>\n",
       "      <td>Data engineer</td>\n",
       "      <td>Cassandra/MongoDB/NoSQL/AWS</td>\n",
       "      <td>Master</td>\n",
       "      <td>7.0</td>\n",
       "      <td>Rennes</td>\n",
       "      <td>Avancé</td>\n",
       "    </tr>\n",
       "    <tr>\n",
       "      <th>4248</th>\n",
       "      <td>KPMG</td>\n",
       "      <td>Data scientist</td>\n",
       "      <td>Python/Microsoft Azure/R/SQL</td>\n",
       "      <td>Phd</td>\n",
       "      <td>2.0</td>\n",
       "      <td>Lyon</td>\n",
       "      <td>Debutant</td>\n",
       "    </tr>\n",
       "    <tr>\n",
       "      <th>4290</th>\n",
       "      <td>Pandora Media, Inc.</td>\n",
       "      <td>Data scientist</td>\n",
       "      <td>SAS/Teradata/SQL/R/Python/Machine learning/Ang...</td>\n",
       "      <td>Phd</td>\n",
       "      <td>1.5</td>\n",
       "      <td>Toulouse</td>\n",
       "      <td>Debutant</td>\n",
       "    </tr>\n",
       "    <tr>\n",
       "      <th>4292</th>\n",
       "      <td>Partners HealthCare(PHS)</td>\n",
       "      <td>Data scientist</td>\n",
       "      <td>SAS/Teradata/SQL/R/Python/Machine learning/Ang...</td>\n",
       "      <td>Master</td>\n",
       "      <td>8.0</td>\n",
       "      <td>Bordeaux</td>\n",
       "      <td>Avancé</td>\n",
       "    </tr>\n",
       "    <tr>\n",
       "      <th>5425</th>\n",
       "      <td>Ashton Lane Group</td>\n",
       "      <td>Data engineer</td>\n",
       "      <td>Python/Pyspark/Spark</td>\n",
       "      <td>No diploma</td>\n",
       "      <td>5.0</td>\n",
       "      <td>Lyon</td>\n",
       "      <td>Avancé</td>\n",
       "    </tr>\n",
       "    <tr>\n",
       "      <th>5593</th>\n",
       "      <td>Lighthouse Lab Services</td>\n",
       "      <td>Data scientist</td>\n",
       "      <td>Python/R/machine learning/Excel/VBA/C++</td>\n",
       "      <td>Master</td>\n",
       "      <td>3.0</td>\n",
       "      <td>Lyon</td>\n",
       "      <td>Confirmé</td>\n",
       "    </tr>\n",
       "    <tr>\n",
       "      <th>5712</th>\n",
       "      <td>Ball Aerospace</td>\n",
       "      <td>Data architecte</td>\n",
       "      <td>Hadoop/Hive/Vertica/Tableau</td>\n",
       "      <td>Bachelor</td>\n",
       "      <td>3.0</td>\n",
       "      <td>Paris</td>\n",
       "      <td>Confirmé</td>\n",
       "    </tr>\n",
       "    <tr>\n",
       "      <th>6024</th>\n",
       "      <td>Leidos</td>\n",
       "      <td>Data architecte</td>\n",
       "      <td>Linux/Python/Hadoop/Perl/Ruby</td>\n",
       "      <td>Master</td>\n",
       "      <td>1.5</td>\n",
       "      <td>Lyon</td>\n",
       "      <td>Debutant</td>\n",
       "    </tr>\n",
       "    <tr>\n",
       "      <th>6625</th>\n",
       "      <td>Ball Aerospace</td>\n",
       "      <td>Data architecte</td>\n",
       "      <td>Hadoop/Hive/Vertica/Tableau</td>\n",
       "      <td>No diploma</td>\n",
       "      <td>0.0</td>\n",
       "      <td>Paris</td>\n",
       "      <td>Debutant</td>\n",
       "    </tr>\n",
       "    <tr>\n",
       "      <th>7091</th>\n",
       "      <td>KPMG</td>\n",
       "      <td>Data scientist</td>\n",
       "      <td>SAS/Teradata/SQL/R/Python/Machine learning/Ang...</td>\n",
       "      <td>Master</td>\n",
       "      <td>0.0</td>\n",
       "      <td>Marseille</td>\n",
       "      <td>Debutant</td>\n",
       "    </tr>\n",
       "    <tr>\n",
       "      <th>7228</th>\n",
       "      <td>Environmental Defense Fund</td>\n",
       "      <td>Data engineer</td>\n",
       "      <td>Map-Reduce/HDFS/PIG/HBASE/Python/Cassandra</td>\n",
       "      <td>Master</td>\n",
       "      <td>2.5</td>\n",
       "      <td>Bordeaux</td>\n",
       "      <td>Confirmé</td>\n",
       "    </tr>\n",
       "    <tr>\n",
       "      <th>7330</th>\n",
       "      <td>Turner</td>\n",
       "      <td>Data scientist</td>\n",
       "      <td>Excel/Python/Matlab/R/machine learning/anglais</td>\n",
       "      <td>Phd</td>\n",
       "      <td>0.5</td>\n",
       "      <td>Lyon</td>\n",
       "      <td>Debutant</td>\n",
       "    </tr>\n",
       "    <tr>\n",
       "      <th>9087</th>\n",
       "      <td>Klein Hersh International</td>\n",
       "      <td>Data architecte</td>\n",
       "      <td>Hadoop/Hive/Vertica/Tableau</td>\n",
       "      <td>No diploma</td>\n",
       "      <td>3.5</td>\n",
       "      <td>Paris</td>\n",
       "      <td>Confirmé</td>\n",
       "    </tr>\n",
       "    <tr>\n",
       "      <th>9427</th>\n",
       "      <td>McKinsey &amp; Company</td>\n",
       "      <td>Data scientist</td>\n",
       "      <td>Python/R/machine learning/Excel/VBA/C++</td>\n",
       "      <td>Master</td>\n",
       "      <td>1.0</td>\n",
       "      <td>Marseille</td>\n",
       "      <td>Debutant</td>\n",
       "    </tr>\n",
       "    <tr>\n",
       "      <th>9490</th>\n",
       "      <td>Pearson</td>\n",
       "      <td>Data scientist</td>\n",
       "      <td>R/Python/Spark/Pycharm/SAS/SQL</td>\n",
       "      <td>Master</td>\n",
       "      <td>4.0</td>\n",
       "      <td>Marseille</td>\n",
       "      <td>Confirmé</td>\n",
       "    </tr>\n",
       "  </tbody>\n",
       "</table>\n",
       "</div>"
      ],
      "text/plain": [
       "                      Entreprise           Metier  \\\n",
       "346                       Jacobs    Data engineer   \n",
       "2058              Ball Aerospace   Data scientist   \n",
       "2670                  eHire, LLC   Data scientist   \n",
       "2899       Norfolk Southern Corp   Data scientist   \n",
       "3346       J.E. Ranta Associates    Data engineer   \n",
       "4248                        KPMG   Data scientist   \n",
       "4290         Pandora Media, Inc.   Data scientist   \n",
       "4292    Partners HealthCare(PHS)   Data scientist   \n",
       "5425           Ashton Lane Group    Data engineer   \n",
       "5593     Lighthouse Lab Services   Data scientist   \n",
       "5712              Ball Aerospace  Data architecte   \n",
       "6024                      Leidos  Data architecte   \n",
       "6625              Ball Aerospace  Data architecte   \n",
       "7091                        KPMG   Data scientist   \n",
       "7228  Environmental Defense Fund    Data engineer   \n",
       "7330                      Turner   Data scientist   \n",
       "9087   Klein Hersh International  Data architecte   \n",
       "9427          McKinsey & Company   Data scientist   \n",
       "9490                     Pearson   Data scientist   \n",
       "\n",
       "                                           Technologies     Diplome  \\\n",
       "346                              Python/Spark/GNU/Linux  No diploma   \n",
       "2058                                 VBA/Python/Excel/R      Master   \n",
       "2670                                Java/C/C++/R/Python      Master   \n",
       "2899     Python/Tensorflow/scikit-learn/Deep learning/R         Phd   \n",
       "3346                        Cassandra/MongoDB/NoSQL/AWS      Master   \n",
       "4248                       Python/Microsoft Azure/R/SQL         Phd   \n",
       "4290  SAS/Teradata/SQL/R/Python/Machine learning/Ang...         Phd   \n",
       "4292  SAS/Teradata/SQL/R/Python/Machine learning/Ang...      Master   \n",
       "5425                               Python/Pyspark/Spark  No diploma   \n",
       "5593            Python/R/machine learning/Excel/VBA/C++      Master   \n",
       "5712                        Hadoop/Hive/Vertica/Tableau    Bachelor   \n",
       "6024                      Linux/Python/Hadoop/Perl/Ruby      Master   \n",
       "6625                        Hadoop/Hive/Vertica/Tableau  No diploma   \n",
       "7091  SAS/Teradata/SQL/R/Python/Machine learning/Ang...      Master   \n",
       "7228         Map-Reduce/HDFS/PIG/HBASE/Python/Cassandra      Master   \n",
       "7330     Excel/Python/Matlab/R/machine learning/anglais         Phd   \n",
       "9087                        Hadoop/Hive/Vertica/Tableau  No diploma   \n",
       "9427            Python/R/machine learning/Excel/VBA/C++      Master   \n",
       "9490                     R/Python/Spark/Pycharm/SAS/SQL      Master   \n",
       "\n",
       "      Experience      Ville Exp_label  \n",
       "346          2.5      Paris  Confirmé  \n",
       "2058        15.0       Lyon    Expert  \n",
       "2670         1.5   Toulouse  Debutant  \n",
       "2899         0.0   Grenoble  Debutant  \n",
       "3346         7.0     Rennes    Avancé  \n",
       "4248         2.0       Lyon  Debutant  \n",
       "4290         1.5   Toulouse  Debutant  \n",
       "4292         8.0   Bordeaux    Avancé  \n",
       "5425         5.0       Lyon    Avancé  \n",
       "5593         3.0       Lyon  Confirmé  \n",
       "5712         3.0      Paris  Confirmé  \n",
       "6024         1.5       Lyon  Debutant  \n",
       "6625         0.0      Paris  Debutant  \n",
       "7091         0.0  Marseille  Debutant  \n",
       "7228         2.5   Bordeaux  Confirmé  \n",
       "7330         0.5       Lyon  Debutant  \n",
       "9087         3.5      Paris  Confirmé  \n",
       "9427         1.0  Marseille  Debutant  \n",
       "9490         4.0  Marseille  Confirmé  "
      ]
     },
     "execution_count": 54,
     "metadata": {},
     "output_type": "execute_result"
    }
   ],
   "source": [
    "#Affichage\n",
    "print(\"Le résultat de la prediction des métiers manquants est obtenu à l'aide d'une classification\",\n",
    "      \" des données avec le model de k- plus proches voisins:\\n\")\n",
    "data_na_met"
   ]
  },
  {
   "cell_type": "markdown",
   "id": "2b5e6ca2-a0dc-4cb6-ac25-67bce8eb5182",
   "metadata": {},
   "source": [
    "## Bonus ++"
   ]
  },
  {
   "cell_type": "markdown",
   "id": "8b48e1c1-3b5e-4964-aa30-a855dbe83e86",
   "metadata": {},
   "source": [
    "Décrire de façon détaillée les différentes étapes pour mener à bien un projet data\n",
    "complexe.\n",
    "Dans le cadre d’une campagne de recrutement vous avez reçu un ensemble de cv\n",
    "qui ne sont pas à jour (le poste actuel n’est pas présent). Un exemple de CV vous\n",
    "ai donné en pièce jointe (il n'y a pas de mise en page type). Tous les CV sont au\n",
    "format PDF.\n",
    "On souhaite connaitre le poste actuel de chaque candidat.\n"
   ]
  },
  {
   "cell_type": "markdown",
   "id": "b8587728-d211-4073-bf2f-3585a6c253c9",
   "metadata": {},
   "source": [
    "* Quelles sont les différentes étapes nécessaires à la réalisation d'un tel projet?\n"
   ]
  },
  {
   "cell_type": "markdown",
   "id": "50f4ff43-d5f0-47e0-90a1-65e4d01d11d4",
   "metadata": {},
   "source": [
    "* 1- Préciser les postes à prédire selon le besoin de l'entreprise \n",
    "* 2- Scrapping des PDFs \n",
    "* 3- Constituer une base de données \n",
    "* 4- Modélisation"
   ]
  },
  {
   "cell_type": "markdown",
   "id": "e8c1f2e7-a77f-4c69-83aa-a2dba753e738",
   "metadata": {},
   "source": [
    "* Pour chaque étape, détaillez les taches à accomplir, les méthodes à suivre,\n",
    "les pistes possibles, les points critiques."
   ]
  },
  {
   "cell_type": "markdown",
   "id": "12bca869-a8f7-4ea2-a7c1-cb3c6c2efe7f",
   "metadata": {},
   "source": [
    " Etape 1 :  Préciser les postes à prédire selon le besoin de l'entreprise :\n",
    "* les variables extraites seront affecté aux postes demandées avec des probabilités.\n",
    "Il est important de ne pas mettre trop de modalités pour un premier prototype. Par exemple commencer par 5 postes. Par la suite, qu'on a plus de visibilité sur la performance du modèle implémenté et qu'il est capable de bien classifier les postes, on peut en ajouter."
   ]
  },
  {
   "cell_type": "markdown",
   "id": "2b27b6fc-e29e-48c5-af1b-c847c137739c",
   "metadata": {},
   "source": [
    "Etape 2 : Scrapping des PDFs\n",
    "* Utiliser le package PyPDF2 pour extraire les mots clés, les outils, les technilogies, le nombre d'années d'expérience, l'entreprise, "
   ]
  },
  {
   "cell_type": "markdown",
   "id": "1e3a7f68-86e2-4309-a0ef-46e49ade80aa",
   "metadata": {},
   "source": [
    "Etape 3 : Nettoyer le text obtenu\n",
    "* Nettoyer les données obtenus : enlever les ponctuations, élimination des redondances ou des mots non compatibles avec les postes demandés.\n",
    "* tokenized and stemmed the words to standardize semantically\n",
    "* Mettre la base en format array format en utilsant un vectorizer.\n",
    "* Constituer une base de données  contenant les variables \"Technologie\", \"Expérience\", \"Postes précédants\""
   ]
  },
  {
   "cell_type": "markdown",
   "id": "c71c4dff-6614-46e8-b36c-6b31e3ca9ab6",
   "metadata": {},
   "source": [
    "Etape 4 : Modélisation\n",
    "* Essayer plusieurs modèles de classification et sélectionner le plus performant "
   ]
  },
  {
   "cell_type": "markdown",
   "id": "656c865d-8d78-4e08-aade-9fb2bd7849e7",
   "metadata": {},
   "source": [
    "## Annexe "
   ]
  },
  {
   "cell_type": "markdown",
   "id": "55ce0de5-17c0-4fca-8f9d-4eb8b515920f",
   "metadata": {},
   "source": [
    "Résultats de clustering selon 3 clusters"
   ]
  },
  {
   "cell_type": "code",
   "execution_count": 55,
   "id": "eaf3d6e8-a922-4c6a-80f9-c52f542fbef3",
   "metadata": {},
   "outputs": [
    {
     "name": "stdout",
     "output_type": "stream",
     "text": [
      "L indice de silhouette pour k=3 est égale à  0.35 \n",
      "\n",
      "Cet cet indice reflète la distance entre les points au sein d un meme cluster et entre les clusters, plus c est proche de 1, mieux c est. \n"
     ]
    }
   ],
   "source": [
    "#Calcul de l'indice de silhouaite correspondant à k=3\n",
    "kmeans = KMeans(\n",
    "     init=\"random\", # init controls the initialization technique. The standard version of the k-means algorithm is implemented by setting init to \"random\"\n",
    "     n_clusters=3, # n_clusters sets k for the clustering step. This is the most important parameter for k-means.\n",
    "     n_init=10, # n_init sets the number of initializations to perform. This is important because two runs can converge on different cluster assignments. The default behavior for the scikit-learn algorithm is to perform ten k-means runs and return the results of the one with the lowest SSE.\n",
    "     max_iter=100, # max_iter sets the number of maximum iterations for each initialization of the k-means algorithm.\n",
    "     random_state=42 # Fixer la graine\n",
    ")\n",
    "\n",
    "kmeans.fit(scaled_features)\n",
    "\n",
    "\n",
    "score = silhouette_score(scaled_features, kmeans.labels_, metric='euclidean')\n",
    "print('L indice de silhouette pour k=3 est égale à ', round(score ,2) ,'\\n')  \n",
    "print('Cet cet indice reflète la distance entre les points au sein d un meme cluster et entre les clusters, plus c est proche de 1, mieux c est. ') "
   ]
  },
  {
   "cell_type": "code",
   "execution_count": 56,
   "id": "1b10f666-0c58-454d-aa73-f6b7433b4f29",
   "metadata": {},
   "outputs": [
    {
     "data": {
      "text/html": [
       "<div>\n",
       "<style scoped>\n",
       "    .dataframe tbody tr th:only-of-type {\n",
       "        vertical-align: middle;\n",
       "    }\n",
       "\n",
       "    .dataframe tbody tr th {\n",
       "        vertical-align: top;\n",
       "    }\n",
       "\n",
       "    .dataframe thead th {\n",
       "        text-align: right;\n",
       "    }\n",
       "</style>\n",
       "<table border=\"1\" class=\"dataframe\">\n",
       "  <thead>\n",
       "    <tr style=\"text-align: right;\">\n",
       "      <th></th>\n",
       "      <th>Experience</th>\n",
       "      <th>Metier</th>\n",
       "      <th>Diplome</th>\n",
       "      <th>Technologies</th>\n",
       "      <th>Exp_label</th>\n",
       "      <th>labels</th>\n",
       "    </tr>\n",
       "  </thead>\n",
       "  <tbody>\n",
       "    <tr>\n",
       "      <th>0</th>\n",
       "      <td>1.0</td>\n",
       "      <td>Data scientist</td>\n",
       "      <td>Master</td>\n",
       "      <td>Matlab/Python/Pyspark/Scikit-learn/Tensorflow</td>\n",
       "      <td>Debutant</td>\n",
       "      <td>2.0</td>\n",
       "    </tr>\n",
       "    <tr>\n",
       "      <th>1</th>\n",
       "      <td>3.0</td>\n",
       "      <td>Data architecte</td>\n",
       "      <td>Master</td>\n",
       "      <td>Python/Java/Scala/MongoDB</td>\n",
       "      <td>Confirmé</td>\n",
       "      <td>1.0</td>\n",
       "    </tr>\n",
       "    <tr>\n",
       "      <th>2</th>\n",
       "      <td>3.0</td>\n",
       "      <td>Lead data scientist</td>\n",
       "      <td>Master</td>\n",
       "      <td>SPSS/SQL/Teradata/R/Python/Tensorflow/scikit-l...</td>\n",
       "      <td>Confirmé</td>\n",
       "      <td>1.0</td>\n",
       "    </tr>\n",
       "    <tr>\n",
       "      <th>3</th>\n",
       "      <td>1.5</td>\n",
       "      <td>Data scientist</td>\n",
       "      <td>Master</td>\n",
       "      <td>C/C++/Java/Python</td>\n",
       "      <td>Debutant</td>\n",
       "      <td>0.0</td>\n",
       "    </tr>\n",
       "    <tr>\n",
       "      <th>4</th>\n",
       "      <td>2.0</td>\n",
       "      <td>Data scientist</td>\n",
       "      <td>Phd</td>\n",
       "      <td>Matlab/Python/C++/numpy/Tensorflow/scikit-learn</td>\n",
       "      <td>Debutant</td>\n",
       "      <td>2.0</td>\n",
       "    </tr>\n",
       "  </tbody>\n",
       "</table>\n",
       "</div>"
      ],
      "text/plain": [
       "   Experience               Metier Diplome  \\\n",
       "0         1.0       Data scientist  Master   \n",
       "1         3.0      Data architecte  Master   \n",
       "2         3.0  Lead data scientist  Master   \n",
       "3         1.5       Data scientist  Master   \n",
       "4         2.0       Data scientist     Phd   \n",
       "\n",
       "                                        Technologies Exp_label  labels  \n",
       "0      Matlab/Python/Pyspark/Scikit-learn/Tensorflow  Debutant     2.0  \n",
       "1                          Python/Java/Scala/MongoDB  Confirmé     1.0  \n",
       "2  SPSS/SQL/Teradata/R/Python/Tensorflow/scikit-l...  Confirmé     1.0  \n",
       "3                                  C/C++/Java/Python  Debutant     0.0  \n",
       "4    Matlab/Python/C++/numpy/Tensorflow/scikit-learn  Debutant     2.0  "
      ]
     },
     "execution_count": 56,
     "metadata": {},
     "output_type": "execute_result"
    }
   ],
   "source": [
    "# concaténer les clusters avec la base de données ( sans valeurs manquantes) \n",
    "df_no_na_con = c_data[[\"Experience\",\"Metier\", \"Diplome\",\"Technologies\",\"Exp_label\"]].dropna().reset_index(drop=True)\n",
    "labels_ = kmeans.labels_\n",
    "labels= pd.DataFrame(labels_)\n",
    "labeleddata = pd.concat((df_no_na_con,labels),axis=1)\n",
    "labeleddata = labeleddata.rename({0:'labels'},axis=1)\n",
    "labeleddata.head()"
   ]
  },
  {
   "cell_type": "code",
   "execution_count": 57,
   "id": "5302d575-a0cb-41ce-ad10-49396dcb33b3",
   "metadata": {},
   "outputs": [
    {
     "data": {
      "image/png": "[encoded data removed]",
      "text/plain": [
       "<Figure size 576x396 with 1 Axes>"
      ]
     },
     "metadata": {},
     "output_type": "display_data"
    }
   ],
   "source": [
    "#Barplot des métiers par cluster\n",
    "metier_counts = (labeleddata.groupby(['labels'])['Metier']\n",
    "                     .value_counts(normalize=True)\n",
    "                     .rename('Pourcentage')\n",
    "                     .mul(100)\n",
    "                     .reset_index()\n",
    "                     .sort_values('Metier'))\n",
    "sns.barplot(x=\"Metier\", y=\"Pourcentage\", hue=\"labels\", data=metier_counts)\n",
    "plt.title(\"Pourcentage des métiers dans chaque cluster\", size=18)\n",
    "plt.show()"
   ]
  },
  {
   "cell_type": "markdown",
   "id": "7a89d77c-90f3-4aa8-8ad5-e097d6d62671",
   "metadata": {},
   "source": [
    "* Le cluster 0 est  composé essentiellement de data engineers (99.23%)\n",
    "* Le cluster 1 est composé de Data scientists (~ 76%) et Lead data scientists (~24 %)\n",
    "* Le cluster 2 est composé principalement de Data architectes (~ 100 %)"
   ]
  },
  {
   "cell_type": "code",
   "execution_count": 58,
   "id": "cf38b44b-b11b-4abc-bdf2-eaa5abda78de",
   "metadata": {},
   "outputs": [
    {
     "data": {
      "text/html": [
       "<div>\n",
       "<style scoped>\n",
       "    .dataframe tbody tr th:only-of-type {\n",
       "        vertical-align: middle;\n",
       "    }\n",
       "\n",
       "    .dataframe tbody tr th {\n",
       "        vertical-align: top;\n",
       "    }\n",
       "\n",
       "    .dataframe thead th {\n",
       "        text-align: right;\n",
       "    }\n",
       "</style>\n",
       "<table border=\"1\" class=\"dataframe\">\n",
       "  <thead>\n",
       "    <tr style=\"text-align: right;\">\n",
       "      <th></th>\n",
       "      <th>labels</th>\n",
       "      <th>variable</th>\n",
       "      <th>value</th>\n",
       "    </tr>\n",
       "  </thead>\n",
       "  <tbody>\n",
       "    <tr>\n",
       "      <th>0</th>\n",
       "      <td>2.0</td>\n",
       "      <td>Python</td>\n",
       "      <td>1</td>\n",
       "    </tr>\n",
       "    <tr>\n",
       "      <th>1</th>\n",
       "      <td>1.0</td>\n",
       "      <td>Python</td>\n",
       "      <td>1</td>\n",
       "    </tr>\n",
       "    <tr>\n",
       "      <th>2</th>\n",
       "      <td>1.0</td>\n",
       "      <td>Python</td>\n",
       "      <td>1</td>\n",
       "    </tr>\n",
       "    <tr>\n",
       "      <th>3</th>\n",
       "      <td>0.0</td>\n",
       "      <td>Python</td>\n",
       "      <td>1</td>\n",
       "    </tr>\n",
       "    <tr>\n",
       "      <th>4</th>\n",
       "      <td>2.0</td>\n",
       "      <td>Python</td>\n",
       "      <td>1</td>\n",
       "    </tr>\n",
       "  </tbody>\n",
       "</table>\n",
       "</div>"
      ],
      "text/plain": [
       "   labels variable  value\n",
       "0     2.0   Python      1\n",
       "1     1.0   Python      1\n",
       "2     1.0   Python      1\n",
       "3     0.0   Python      1\n",
       "4     2.0   Python      1"
      ]
     },
     "execution_count": 58,
     "metadata": {},
     "output_type": "execute_result"
    }
   ],
   "source": [
    "# Création d'une nouvelle base pour le plot des outils par cluster \n",
    "# Ajout des labels à la base ou les outils sont encodés\n",
    "get_tools=coded_data_all\n",
    "get_tools['labels']=labeleddata['labels']\n",
    "values_counts=get_tools[[\"Python\",\"R\",\t\"SQL\",\t\"Java\",\t\"Hadoop\",\"labels\"]]\n",
    "# transformer la base de sorte que les colonnes deviennent en ligne avec un ordre basé sur les labes\n",
    "melting=values_counts.melt(id_vars=[\"labels\"])\n",
    "#Conserver que les observations ou les outils ont été utilisé\n",
    "only_used_tools=melting.loc[melting['value']==1]\n",
    "only_used_tools.head()"
   ]
  },
  {
   "cell_type": "code",
   "execution_count": 59,
   "id": "44ba2f79-0267-494e-86a7-7a9998c4272d",
   "metadata": {},
   "outputs": [
    {
     "data": {
      "image/png": "[encoded data removed]",
      "text/plain": [
       "<Figure size 576x396 with 1 Axes>"
      ]
     },
     "metadata": {},
     "output_type": "display_data"
    }
   ],
   "source": [
    "tool_counts = (only_used_tools.groupby(['labels'])['variable']\n",
    "                     .value_counts(normalize=True)\n",
    "                     .rename('Pourcentage')\n",
    "                     .mul(100)\n",
    "                     .reset_index()\n",
    "                     .sort_values('variable'))\n",
    "sns.barplot(x=\"variable\", y=\"Pourcentage\", hue=\"labels\", data=tool_counts)\n",
    "plt.title(\"Pourcentage des outils utilisés dans chaque cluster\", size=18)\n",
    "plt.show()"
   ]
  },
  {
   "cell_type": "markdown",
   "id": "eab16cab-8be6-447b-b156-dbfc26a48986",
   "metadata": {},
   "source": [
    "* Le cluster 0 (Data engineers) est principalement caractérisé par les outils Python, Hadoop, Java.\n",
    "* Le cluster 1 (Data scientists) contient majoritairement les outils Python, R et SQL.\n",
    "* Le cluster 2 (Data architectes) est composé par les outils Python, Java, Hadoop\n",
    "* Les clusters 0 et 2 sont comparables en terme d'outils, cela nous fait penser à la possibilité d'aggréger les profils data engineers et data architectes en un seul cluster."
   ]
  },
  {
   "cell_type": "code",
   "execution_count": 60,
   "id": "348efc7a-346a-493e-adbd-be84bc526fd8",
   "metadata": {},
   "outputs": [
    {
     "data": {
      "image/png": "[encoded data removed]",
      "text/plain": [
       "<Figure size 576x396 with 1 Axes>"
      ]
     },
     "metadata": {},
     "output_type": "display_data"
    }
   ],
   "source": [
    "Diplome_percent = (labeleddata.groupby(['labels'])['Diplome']\n",
    "                     .value_counts(normalize=True)\n",
    "                     .rename('Pourcentage')\n",
    "                     .mul(100)\n",
    "                     .reset_index()\n",
    "                     .sort_values('Diplome'))\n",
    "sns.barplot(x=\"Diplome\", y=\"Pourcentage\", hue=\"labels\", data=Diplome_percent)\n",
    "plt.title(\"Pourcentage des Diplomes dans chaque cluster\", size=18)\n",
    "plt.show()"
   ]
  },
  {
   "cell_type": "markdown",
   "id": "58232346-c794-410f-b6ab-27819688a59e",
   "metadata": {},
   "source": [
    "* Le cluster 0 est majoritairement occupé par le niveau master, les autres niveaux d'études sont comparables.\n",
    "* Le cluster 1 est caractérisé par les diplomés en Master et Phd.\n",
    "* Le cluster 2 est majoritairement occupé par le niveau master, les autres niveaux d'études sont comparables.\n",
    "\n",
    "Encore une fois la ressemblance entre les clusters détectée au niveau de la variable Diplome nous fait penser un réunir les clusters 0 et 2."
   ]
  },
  {
   "cell_type": "code",
   "execution_count": 61,
   "id": "5a0378ca-2011-4b8c-af07-95917c5d09f2",
   "metadata": {},
   "outputs": [
    {
     "data": {
      "image/png": "[encoded data removed]",
      "text/plain": [
       "<Figure size 576x396 with 1 Axes>"
      ]
     },
     "metadata": {},
     "output_type": "display_data"
    }
   ],
   "source": [
    "sns.histplot(binwidth=1,y=\"Exp_label\", hue=\"labels\", data=labeleddata, stat=\"percent\", multiple=\"stack\")\n",
    "plt.title(\"Pourcentage des expertises par cluster\")\n",
    "\n",
    "plt.show()"
   ]
  },
  {
   "cell_type": "markdown",
   "id": "38d7bd88-2f36-423a-9eb6-5458fb09f8df",
   "metadata": {},
   "source": [
    "* Les comportements des clusters 0 et 2 sont comparables en terme d'expertise aussi. Ce ci confirme l'hypothèse de la fusion de ces deux clusters."
   ]
  },
  {
   "cell_type": "code",
   "execution_count": null,
   "id": "0d0bbbdc-0674-44f6-a0c6-d0b73182fab4",
   "metadata": {},
   "outputs": [],
   "source": []
  },
  {
   "cell_type": "code",
   "execution_count": null,
   "id": "7192f201-1fbc-4d07-b74e-26409797289e",
   "metadata": {},
   "outputs": [],
   "source": []
  }
 ],
 "metadata": {
  "environment": {
   "kernel": "python3",
   "name": "tf2-gpu.2-8.m95",
   "type": "gcloud",
   "uri": "gcr.io/deeplearning-platform-release/tf2-gpu.2-8:m95"
  },
  "kernelspec": {
   "display_name": "Python 3",
   "language": "python",
   "name": "python3"
  },
  "language_info": {
   "codemirror_mode": {
    "name": "ipython",
    "version": 3
   },
   "file_extension": ".py",
   "mimetype": "text/x-python",
   "name": "python",
   "nbconvert_exporter": "python",
   "pygments_lexer": "ipython3",
   "version": "3.7.12"
  }
 },
 "nbformat": 4,
 "nbformat_minor": 5
}
